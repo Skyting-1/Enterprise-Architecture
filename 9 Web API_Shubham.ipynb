{
 "cells": [
  {
   "cell_type": "markdown",
   "metadata": {},
   "source": [
    "# Web APIs\n",
    "\n",
    "## 1. Consuming Web APIs\n",
    "\n",
    "(Partially adapted from https://www.dataquest.io/blog/python-api-tutorial/)\n",
    "\n",
    "* https://randomuser.me/ is a random user generator \n",
    "*\tIt has an API. Go to https://api.randomuser.me/ with your browser\n",
    "*\tYou get a JSON (JavaScript Object Notation) back. A JSON is similar to a Python dictionary.  \n",
    "*  Refresh the browser\n",
    "*\tYou can add query parameters. They are added to the URL with a ? . You then add then the parameter name = the value. More the one parameter are connected with a & e.g.\n",
    "\thttp://api.open-notify.org/iss-pass.json?lat=37.78&lon=-122.41\n",
    "\n",
    "*\t Go the documentation https://randomuser.me/documentation and check how you can get multiple users and to specify constraints on the output\n",
    "*\tGo to your browser and add parameters to https://api.randomuser.me/ so that you get 5 results of only males from the US\n",
    "\n",
    "Enter the URL of your solution:"
   ]
  },
  {
   "cell_type": "code",
   "execution_count": 2,
   "metadata": {},
   "outputs": [],
   "source": [
    "# TODO: get 5 results of only males from the US\n",
    "# Enter the URL of your solution:\n",
    "url = 'https://api.randomuser.me/?gender=male&nat=US&results=5'"
   ]
  },
  {
   "cell_type": "markdown",
   "metadata": {},
   "source": [
    "* You can also get the data from the command line. Open the command line and write\n",
    "\n",
    "```bash\n",
    "curl -s https://api.randomuser.me/\n",
    "```\n",
    "\n",
    "You can also run Bash commands directly in your Jupyter Notebook with !:"
   ]
  },
  {
   "cell_type": "code",
   "execution_count": 3,
   "metadata": {},
   "outputs": [
    {
     "name": "stdout",
     "output_type": "stream",
     "text": [
      "{\"results\":[{\"gender\":\"female\",\"name\":{\"title\":\"miss\",\"first\":\"saana\",\"last\":\"niemela\"},\"location\":{\"street\":\"1421 mechelininkatu\",\"city\":\"kemi\",\"state\":\"north karelia\",\"postcode\":50297,\"coordinates\":{\"latitude\":\"-11.2935\",\"longitude\":\"53.4144\"},\"timezone\":{\"offset\":\"-9:00\",\"description\":\"Alaska\"}},\"email\":\"saana.niemela@example.com\",\"login\":{\"uuid\":\"d9212645-77e3-429d-a77d-e1c1d4f3e46f\",\"username\":\"ticklishwolf174\",\"password\":\"jimmie\",\"salt\":\"C7nkMZhE\",\"md5\":\"de6ce5abf7bec3b50c7aeef1a6bb092f\",\"sha1\":\"fd6531af6daaefed48bd17ec1063894430cd4148\",\"sha256\":\"5ab535943b8dfa12816c0d0e415914eecc6b982d9d640090504944f789298a3c\"},\"dob\":{\"date\":\"1984-10-05T23:59:51Z\",\"age\":34},\"registered\":{\"date\":\"2003-10-05T12:16:34Z\",\"age\":15},\"phone\":\"04-929-249\",\"cell\":\"045-509-28-51\",\"id\":{\"name\":\"HETU\",\"value\":\"NaNNA370undefined\"},\"picture\":{\"large\":\"https://randomuser.me/api/portraits/women/80.jpg\",\"medium\":\"https://randomuser.me/api/portraits/med/women/80.jpg\",\"thumbnail\":\"https://randomuser.me/api/portraits/thumb/women/80.jpg\"},\"nat\":\"FI\"}],\"info\":{\"seed\":\"40e31a880a9360ff\",\"results\":1,\"page\":1,\"version\":\"1.2\"}}"
     ]
    }
   ],
   "source": [
    "!curl -s https://api.randomuser.me/"
   ]
  },
  {
   "cell_type": "markdown",
   "metadata": {},
   "source": [
    "* Import the two libraries \n",
    "    * `requests` and \n",
    "    * `json`. \n",
    "\n",
    "You can find the documentation for the requests package here:\n",
    " http://www.python-requests.org/en/latest/ \n",
    " "
   ]
  },
  {
   "cell_type": "code",
   "execution_count": 4,
   "metadata": {},
   "outputs": [],
   "source": [
    "# TODO\n",
    "import requests\n",
    "import json"
   ]
  },
  {
   "cell_type": "markdown",
   "metadata": {},
   "source": [
    "* With the requests package you can call a Web API with the URL and the method get"
   ]
  },
  {
   "cell_type": "code",
   "execution_count": 5,
   "metadata": {},
   "outputs": [],
   "source": [
    "response = requests.get(url)"
   ]
  },
  {
   "cell_type": "markdown",
   "metadata": {},
   "source": [
    "* Print the status code of the request"
   ]
  },
  {
   "cell_type": "code",
   "execution_count": 6,
   "metadata": {},
   "outputs": [
    {
     "name": "stdout",
     "output_type": "stream",
     "text": [
      "200\n"
     ]
    }
   ],
   "source": [
    "print(response.status_code)"
   ]
  },
  {
   "cell_type": "markdown",
   "metadata": {},
   "source": [
    "**The meaning of the status codes are:**\n",
    "* 200: everything went okay, and the result has been returned (if any)\n",
    "* 301: the server is redirecting you to a different endpoint. This can happen when a company switches domain names, or an endpoint name is changed.\n",
    "* 401: the server thinks you're not authenticated. This happens when you don't send the right credentials to access an API.\n",
    "* 400: the server thinks you made a bad request. This can happen when you don't send along the right data, among other things.\n",
    "* 403: the resource you're trying to access is forbidden – you don't have the right permissions to see it.\n",
    "* 404: the resource you tried to access wasn't found on the server.\n"
   ]
  },
  {
   "cell_type": "markdown",
   "metadata": {},
   "source": [
    "You can specify the query parameters for a URL with a Python dictionary like this:\n",
    "```python\n",
    "parameters = {\"lat\": 37.78, \"lon\": -122.41}\n",
    "```\n",
    "\n",
    "And pass the parameter to the request like this\n",
    "```python\n",
    "response = requests.get(\"http://api.open-notify.org/iss-pass.json\", params=parameters)\n",
    "```\n",
    "This is the same as \n",
    "```python\n",
    "response = requests.get(\"http://api.open-notify.org/iss-pass.json?lat=37.78&lon=-122.41\")\n",
    "```\n",
    "\n",
    "Alternatively you could build also the URL with the parameters by yourself with string concatenation. \n",
    "\n",
    "* Get with the request method 10 results of only males from the US.\n",
    "\n"
   ]
  },
  {
   "cell_type": "code",
   "execution_count": 7,
   "metadata": {},
   "outputs": [
    {
     "data": {
      "text/plain": [
       "200"
      ]
     },
     "execution_count": 7,
     "metadata": {},
     "output_type": "execute_result"
    }
   ],
   "source": [
    "# TODO: Get with the request method 10 results of only males from the US.\n",
    "response=requests.get('https://api.randomuser.me/?gender=male&nat=US&results=10')\n",
    "response.status_code"
   ]
  },
  {
   "cell_type": "markdown",
   "metadata": {},
   "source": [
    "* You can show the result of the request with the method text"
   ]
  },
  {
   "cell_type": "code",
   "execution_count": 8,
   "metadata": {
    "scrolled": true
   },
   "outputs": [
    {
     "data": {
      "text/plain": [
       "'{\"results\":[{\"gender\":\"male\",\"name\":{\"title\":\"mr\",\"first\":\"jimmie\",\"last\":\"freeman\"},\"location\":{\"street\":\"815 fincher rd\",\"city\":\"everett\",\"state\":\"texas\",\"postcode\":84468,\"coordinates\":{\"latitude\":\"42.8408\",\"longitude\":\"2.0934\"},\"timezone\":{\"offset\":\"+3:00\",\"description\":\"Baghdad, Riyadh, Moscow, St. Petersburg\"}},\"email\":\"jimmie.freeman@example.com\",\"login\":{\"uuid\":\"48144dde-3363-427a-b6b3-4b503d24e7e5\",\"username\":\"happypanda310\",\"password\":\"jasmine1\",\"salt\":\"6moyniDN\",\"md5\":\"820f973598f7a344c97c6b4fbfadaca3\",\"sha1\":\"46286af2f613586f15d7da4266b91cf7d03d1f32\",\"sha256\":\"6ca695621cbf82d66c584f3991399bdf9f4d060eff0efa9943b72fa965523059\"},\"dob\":{\"date\":\"1960-01-11T01:05:59Z\",\"age\":59},\"registered\":{\"date\":\"2013-10-18T22:15:37Z\",\"age\":5},\"phone\":\"(028)-139-4930\",\"cell\":\"(068)-825-7315\",\"id\":{\"name\":\"SSN\",\"value\":\"101-97-5247\"},\"picture\":{\"large\":\"https://randomuser.me/api/portraits/men/33.jpg\",\"medium\":\"https://randomuser.me/api/portraits/med/men/33.jpg\",\"thumbnail\":\"https://randomuser.me/api/portraits/thumb/men/33.jpg\"},\"nat\":\"US\"},{\"gender\":\"male\",\"name\":{\"title\":\"mr\",\"first\":\"elijah\",\"last\":\"dunn\"},\"location\":{\"street\":\"6426 spring st\",\"city\":\"lewiston\",\"state\":\"south dakota\",\"postcode\":49754,\"coordinates\":{\"latitude\":\"-80.5177\",\"longitude\":\"-177.6287\"},\"timezone\":{\"offset\":\"-10:00\",\"description\":\"Hawaii\"}},\"email\":\"elijah.dunn@example.com\",\"login\":{\"uuid\":\"add49c51-8112-4ec8-86bb-431ac7d74fb9\",\"username\":\"redwolf845\",\"password\":\"iloveyou2\",\"salt\":\"s7SKrsZU\",\"md5\":\"b91b400cd11d3ee6d094935da082ddf5\",\"sha1\":\"68ed7e1d24d624fd3ad246e9f90b6dfeb93116bb\",\"sha256\":\"08c82741c547d0283c69b2c5aa9003d7fae47af8fe3a2579cbf56cc350dafc98\"},\"dob\":{\"date\":\"1953-08-07T02:25:35Z\",\"age\":65},\"registered\":{\"date\":\"2016-12-14T10:33:14Z\",\"age\":2},\"phone\":\"(366)-169-4858\",\"cell\":\"(376)-648-6888\",\"id\":{\"name\":\"SSN\",\"value\":\"372-39-6498\"},\"picture\":{\"large\":\"https://randomuser.me/api/portraits/men/77.jpg\",\"medium\":\"https://randomuser.me/api/portraits/med/men/77.jpg\",\"thumbnail\":\"https://randomuser.me/api/portraits/thumb/men/77.jpg\"},\"nat\":\"US\"},{\"gender\":\"male\",\"name\":{\"title\":\"mr\",\"first\":\"eugene\",\"last\":\"frazier\"},\"location\":{\"street\":\"1977 photinia ave\",\"city\":\"west covina\",\"state\":\"south dakota\",\"postcode\":13119,\"coordinates\":{\"latitude\":\"-38.4097\",\"longitude\":\"-70.8715\"},\"timezone\":{\"offset\":\"+7:00\",\"description\":\"Bangkok, Hanoi, Jakarta\"}},\"email\":\"eugene.frazier@example.com\",\"login\":{\"uuid\":\"db7afd2e-c6aa-42ae-ad8d-5caa7ebddd6b\",\"username\":\"smallmouse782\",\"password\":\"7779311\",\"salt\":\"04S41TLf\",\"md5\":\"f944d0dbfbd98f354d05e4797bb4e386\",\"sha1\":\"6e2b7959fead6ac68c5f84290f2c77dbfc01e237\",\"sha256\":\"1b6930a3e17113e7ddb7228b2ec81f0ed25782445b91975ae8e4d20a1230680c\"},\"dob\":{\"date\":\"1950-08-16T11:44:40Z\",\"age\":68},\"registered\":{\"date\":\"2002-11-26T18:58:39Z\",\"age\":16},\"phone\":\"(647)-139-4289\",\"cell\":\"(005)-401-3298\",\"id\":{\"name\":\"SSN\",\"value\":\"212-44-5479\"},\"picture\":{\"large\":\"https://randomuser.me/api/portraits/men/0.jpg\",\"medium\":\"https://randomuser.me/api/portraits/med/men/0.jpg\",\"thumbnail\":\"https://randomuser.me/api/portraits/thumb/men/0.jpg\"},\"nat\":\"US\"},{\"gender\":\"male\",\"name\":{\"title\":\"mr\",\"first\":\"philip\",\"last\":\"bowman\"},\"location\":{\"street\":\"977 fairview st\",\"city\":\"st. louis\",\"state\":\"south carolina\",\"postcode\":55206,\"coordinates\":{\"latitude\":\"-45.1868\",\"longitude\":\"-49.9119\"},\"timezone\":{\"offset\":\"-3:00\",\"description\":\"Brazil, Buenos Aires, Georgetown\"}},\"email\":\"philip.bowman@example.com\",\"login\":{\"uuid\":\"ea7fc754-c39f-4c0f-abed-b910cac10097\",\"username\":\"yellowkoala255\",\"password\":\"beethove\",\"salt\":\"6fcaw6YI\",\"md5\":\"cb17285f9d2dc233012cbd2f188c09c5\",\"sha1\":\"eb790c3fff5e154cf626ac866777734570a3f3d4\",\"sha256\":\"99350c72fe31c60bb72670f8593e314c80c2aa2d7ac47769e4fa06ddadf629f8\"},\"dob\":{\"date\":\"1945-05-31T08:59:24Z\",\"age\":73},\"registered\":{\"date\":\"2017-08-28T23:14:37Z\",\"age\":1},\"phone\":\"(803)-440-9474\",\"cell\":\"(910)-431-7464\",\"id\":{\"name\":\"SSN\",\"value\":\"546-07-4774\"},\"picture\":{\"large\":\"https://randomuser.me/api/portraits/men/82.jpg\",\"medium\":\"https://randomuser.me/api/portraits/med/men/82.jpg\",\"thumbnail\":\"https://randomuser.me/api/portraits/thumb/men/82.jpg\"},\"nat\":\"US\"},{\"gender\":\"male\",\"name\":{\"title\":\"mr\",\"first\":\"bryan\",\"last\":\"young\"},\"location\":{\"street\":\"8970 central st\",\"city\":\"fontana\",\"state\":\"new jersey\",\"postcode\":98640,\"coordinates\":{\"latitude\":\"52.6053\",\"longitude\":\"-127.9922\"},\"timezone\":{\"offset\":\"-7:00\",\"description\":\"Mountain Time (US & Canada)\"}},\"email\":\"bryan.young@example.com\",\"login\":{\"uuid\":\"6e74df00-8712-454e-9414-7797bf4c1514\",\"username\":\"tinyrabbit666\",\"password\":\"66666\",\"salt\":\"p1fAi3MX\",\"md5\":\"eabc0a9e9f7ee697ff7c9c60e99fc661\",\"sha1\":\"972f86fcebad0f950f331a05562bdc5000bb377b\",\"sha256\":\"74c8e76337a96e132d39f6a24c8f7b25a7b1a74e275f300d507ff6bf98b163e2\"},\"dob\":{\"date\":\"1980-05-15T11:39:58Z\",\"age\":38},\"registered\":{\"date\":\"2016-11-24T10:53:03Z\",\"age\":2},\"phone\":\"(126)-432-8505\",\"cell\":\"(896)-182-0768\",\"id\":{\"name\":\"SSN\",\"value\":\"238-22-6929\"},\"picture\":{\"large\":\"https://randomuser.me/api/portraits/men/22.jpg\",\"medium\":\"https://randomuser.me/api/portraits/med/men/22.jpg\",\"thumbnail\":\"https://randomuser.me/api/portraits/thumb/men/22.jpg\"},\"nat\":\"US\"},{\"gender\":\"male\",\"name\":{\"title\":\"mr\",\"first\":\"marshall\",\"last\":\"ortiz\"},\"location\":{\"street\":\"4782 hunters creek dr\",\"city\":\"oakland\",\"state\":\"montana\",\"postcode\":92130,\"coordinates\":{\"latitude\":\"63.5657\",\"longitude\":\"101.9169\"},\"timezone\":{\"offset\":\"+9:00\",\"description\":\"Tokyo, Seoul, Osaka, Sapporo, Yakutsk\"}},\"email\":\"marshall.ortiz@example.com\",\"login\":{\"uuid\":\"8e1005ed-82f7-420f-9d15-671e7c6e2074\",\"username\":\"whiteleopard795\",\"password\":\"buckshot\",\"salt\":\"ETz74qUr\",\"md5\":\"3541830d4f12d281e360c073a7077e55\",\"sha1\":\"8d59d472e1c0190258a52da78c25f2592ec61512\",\"sha256\":\"7909a112b3ce78158e79a40d77c63908efcb5a81a83f8811065ace4e9d893186\"},\"dob\":{\"date\":\"1982-03-17T10:52:25Z\",\"age\":37},\"registered\":{\"date\":\"2017-12-28T07:14:33Z\",\"age\":1},\"phone\":\"(340)-283-9784\",\"cell\":\"(642)-351-1913\",\"id\":{\"name\":\"SSN\",\"value\":\"831-38-7341\"},\"picture\":{\"large\":\"https://randomuser.me/api/portraits/men/0.jpg\",\"medium\":\"https://randomuser.me/api/portraits/med/men/0.jpg\",\"thumbnail\":\"https://randomuser.me/api/portraits/thumb/men/0.jpg\"},\"nat\":\"US\"},{\"gender\":\"male\",\"name\":{\"title\":\"mr\",\"first\":\"noah\",\"last\":\"riley\"},\"location\":{\"street\":\"3012 mockingbird hill\",\"city\":\"raleigh\",\"state\":\"connecticut\",\"postcode\":78508,\"coordinates\":{\"latitude\":\"-71.2225\",\"longitude\":\"107.2484\"},\"timezone\":{\"offset\":\"+2:00\",\"description\":\"Kaliningrad, South Africa\"}},\"email\":\"noah.riley@example.com\",\"login\":{\"uuid\":\"6a78790c-6bb7-492f-ae15-9f3d162e9c0e\",\"username\":\"yellowzebra657\",\"password\":\"gustav\",\"salt\":\"fLgbs8Qa\",\"md5\":\"b95822f0a88afc9cf8aaa3c68687c044\",\"sha1\":\"de3e7e757368d6438d6f2454d4a9496f36899e8f\",\"sha256\":\"56a75ec2c4d618ede05564e070d27c3126ba81454498fb6d8b771647363fc7d1\"},\"dob\":{\"date\":\"1985-01-19T13:59:43Z\",\"age\":34},\"registered\":{\"date\":\"2012-06-06T05:07:47Z\",\"age\":6},\"phone\":\"(730)-137-8301\",\"cell\":\"(123)-914-5873\",\"id\":{\"name\":\"SSN\",\"value\":\"079-21-7321\"},\"picture\":{\"large\":\"https://randomuser.me/api/portraits/men/64.jpg\",\"medium\":\"https://randomuser.me/api/portraits/med/men/64.jpg\",\"thumbnail\":\"https://randomuser.me/api/portraits/thumb/men/64.jpg\"},\"nat\":\"US\"},{\"gender\":\"male\",\"name\":{\"title\":\"mr\",\"first\":\"victor\",\"last\":\"little\"},\"location\":{\"street\":\"5870 eason rd\",\"city\":\"simi valley\",\"state\":\"new jersey\",\"postcode\":45899,\"coordinates\":{\"latitude\":\"49.9441\",\"longitude\":\"46.4248\"},\"timezone\":{\"offset\":\"+5:45\",\"description\":\"Kathmandu\"}},\"email\":\"victor.little@example.com\",\"login\":{\"uuid\":\"ae333a66-3e90-48df-a2e3-0bad44c34af3\",\"username\":\"crazyswan107\",\"password\":\"godfather\",\"salt\":\"Ls1V00I9\",\"md5\":\"716d48982ca881ac6cb14fdcbaa08b5a\",\"sha1\":\"cd2355903205b133a844e9ea839f1aaa986305e3\",\"sha256\":\"6e0b0802a63ad0fee7041c8fdc67cb99512a9d4cb0e2d410895c1b954efae7c8\"},\"dob\":{\"date\":\"1980-10-08T20:00:23Z\",\"age\":38},\"registered\":{\"date\":\"2008-12-20T18:21:15Z\",\"age\":10},\"phone\":\"(664)-325-0410\",\"cell\":\"(184)-610-5374\",\"id\":{\"name\":\"SSN\",\"value\":\"081-62-4562\"},\"picture\":{\"large\":\"https://randomuser.me/api/portraits/men/44.jpg\",\"medium\":\"https://randomuser.me/api/portraits/med/men/44.jpg\",\"thumbnail\":\"https://randomuser.me/api/portraits/thumb/men/44.jpg\"},\"nat\":\"US\"},{\"gender\":\"male\",\"name\":{\"title\":\"mr\",\"first\":\"richard\",\"last\":\"nichols\"},\"location\":{\"street\":\"9824 karen dr\",\"city\":\"las vegas\",\"state\":\"connecticut\",\"postcode\":55387,\"coordinates\":{\"latitude\":\"78.4279\",\"longitude\":\"140.9941\"},\"timezone\":{\"offset\":\"+5:30\",\"description\":\"Bombay, Calcutta, Madras, New Delhi\"}},\"email\":\"richard.nichols@example.com\",\"login\":{\"uuid\":\"aad76a8e-7b6f-4e4c-82e8-cbf04604d5fc\",\"username\":\"heavybutterfly591\",\"password\":\"cleopatr\",\"salt\":\"vzmAtjBS\",\"md5\":\"f935e6e2e78ec8e510d7581bca6e6498\",\"sha1\":\"7e96aee81bc2572e7534cc7c66255c30eef7d619\",\"sha256\":\"1da22e26cec9d2959483e238c3b585f7ccf66d3618e85150b091d022de1940f4\"},\"dob\":{\"date\":\"1994-06-20T13:05:48Z\",\"age\":24},\"registered\":{\"date\":\"2014-01-25T19:14:37Z\",\"age\":5},\"phone\":\"(803)-344-0233\",\"cell\":\"(315)-874-5238\",\"id\":{\"name\":\"SSN\",\"value\":\"365-42-7436\"},\"picture\":{\"large\":\"https://randomuser.me/api/portraits/men/73.jpg\",\"medium\":\"https://randomuser.me/api/portraits/med/men/73.jpg\",\"thumbnail\":\"https://randomuser.me/api/portraits/thumb/men/73.jpg\"},\"nat\":\"US\"},{\"gender\":\"male\",\"name\":{\"title\":\"mr\",\"first\":\"clifford\",\"last\":\"henry\"},\"location\":{\"street\":\"5981 ranchview dr\",\"city\":\"miami\",\"state\":\"virginia\",\"postcode\":59359,\"coordinates\":{\"latitude\":\"63.8052\",\"longitude\":\"-4.8893\"},\"timezone\":{\"offset\":\"-4:00\",\"description\":\"Atlantic Time (Canada), Caracas, La Paz\"}},\"email\":\"clifford.henry@example.com\",\"login\":{\"uuid\":\"b745821f-25d5-425d-8572-3bc848b2c191\",\"username\":\"heavygoose784\",\"password\":\"zhen\",\"salt\":\"uhd0OD6Q\",\"md5\":\"22aed99132711fbf5848a135dff9d30e\",\"sha1\":\"b12b8ca648d34ed3abab34560c56b6c3862915bb\",\"sha256\":\"075b6b66e97eab9adca92daa31686a0919615ff4e4418dd85218cf0456483f2f\"},\"dob\":{\"date\":\"1968-11-03T23:23:22Z\",\"age\":50},\"registered\":{\"date\":\"2009-02-21T11:45:47Z\",\"age\":10},\"phone\":\"(946)-580-1088\",\"cell\":\"(135)-618-1255\",\"id\":{\"name\":\"SSN\",\"value\":\"969-09-4599\"},\"picture\":{\"large\":\"https://randomuser.me/api/portraits/men/61.jpg\",\"medium\":\"https://randomuser.me/api/portraits/med/men/61.jpg\",\"thumbnail\":\"https://randomuser.me/api/portraits/thumb/men/61.jpg\"},\"nat\":\"US\"}],\"info\":{\"seed\":\"9e93b501984735dd\",\"results\":10,\"page\":1,\"version\":\"1.2\"}}'"
      ]
     },
     "execution_count": 8,
     "metadata": {},
     "output_type": "execute_result"
    }
   ],
   "source": [
    "response.text"
   ]
  },
  {
   "cell_type": "markdown",
   "metadata": {},
   "source": [
    "* You can convert the data from JSON to a Python dictionary with the package JSON"
   ]
  },
  {
   "cell_type": "code",
   "execution_count": 9,
   "metadata": {},
   "outputs": [],
   "source": [
    "data = json.loads(response.text)"
   ]
  },
  {
   "cell_type": "markdown",
   "metadata": {},
   "source": [
    "* Check the type of variable data"
   ]
  },
  {
   "cell_type": "code",
   "execution_count": 10,
   "metadata": {},
   "outputs": [
    {
     "data": {
      "text/plain": [
       "dict"
      ]
     },
     "execution_count": 10,
     "metadata": {},
     "output_type": "execute_result"
    }
   ],
   "source": [
    "# TODO\n",
    "type(data)"
   ]
  },
  {
   "cell_type": "code",
   "execution_count": 11,
   "metadata": {},
   "outputs": [
    {
     "name": "stdout",
     "output_type": "stream",
     "text": [
      "{'results': [{'gender': 'male', 'name': {'title': 'mr', 'first': 'jimmie', 'last': 'freeman'}, 'location': {'street': '815 fincher rd', 'city': 'everett', 'state': 'texas', 'postcode': 84468, 'coordinates': {'latitude': '42.8408', 'longitude': '2.0934'}, 'timezone': {'offset': '+3:00', 'description': 'Baghdad, Riyadh, Moscow, St. Petersburg'}}, 'email': 'jimmie.freeman@example.com', 'login': {'uuid': '48144dde-3363-427a-b6b3-4b503d24e7e5', 'username': 'happypanda310', 'password': 'jasmine1', 'salt': '6moyniDN', 'md5': '820f973598f7a344c97c6b4fbfadaca3', 'sha1': '46286af2f613586f15d7da4266b91cf7d03d1f32', 'sha256': '6ca695621cbf82d66c584f3991399bdf9f4d060eff0efa9943b72fa965523059'}, 'dob': {'date': '1960-01-11T01:05:59Z', 'age': 59}, 'registered': {'date': '2013-10-18T22:15:37Z', 'age': 5}, 'phone': '(028)-139-4930', 'cell': '(068)-825-7315', 'id': {'name': 'SSN', 'value': '101-97-5247'}, 'picture': {'large': 'https://randomuser.me/api/portraits/men/33.jpg', 'medium': 'https://randomuser.me/api/portraits/med/men/33.jpg', 'thumbnail': 'https://randomuser.me/api/portraits/thumb/men/33.jpg'}, 'nat': 'US'}, {'gender': 'male', 'name': {'title': 'mr', 'first': 'elijah', 'last': 'dunn'}, 'location': {'street': '6426 spring st', 'city': 'lewiston', 'state': 'south dakota', 'postcode': 49754, 'coordinates': {'latitude': '-80.5177', 'longitude': '-177.6287'}, 'timezone': {'offset': '-10:00', 'description': 'Hawaii'}}, 'email': 'elijah.dunn@example.com', 'login': {'uuid': 'add49c51-8112-4ec8-86bb-431ac7d74fb9', 'username': 'redwolf845', 'password': 'iloveyou2', 'salt': 's7SKrsZU', 'md5': 'b91b400cd11d3ee6d094935da082ddf5', 'sha1': '68ed7e1d24d624fd3ad246e9f90b6dfeb93116bb', 'sha256': '08c82741c547d0283c69b2c5aa9003d7fae47af8fe3a2579cbf56cc350dafc98'}, 'dob': {'date': '1953-08-07T02:25:35Z', 'age': 65}, 'registered': {'date': '2016-12-14T10:33:14Z', 'age': 2}, 'phone': '(366)-169-4858', 'cell': '(376)-648-6888', 'id': {'name': 'SSN', 'value': '372-39-6498'}, 'picture': {'large': 'https://randomuser.me/api/portraits/men/77.jpg', 'medium': 'https://randomuser.me/api/portraits/med/men/77.jpg', 'thumbnail': 'https://randomuser.me/api/portraits/thumb/men/77.jpg'}, 'nat': 'US'}, {'gender': 'male', 'name': {'title': 'mr', 'first': 'eugene', 'last': 'frazier'}, 'location': {'street': '1977 photinia ave', 'city': 'west covina', 'state': 'south dakota', 'postcode': 13119, 'coordinates': {'latitude': '-38.4097', 'longitude': '-70.8715'}, 'timezone': {'offset': '+7:00', 'description': 'Bangkok, Hanoi, Jakarta'}}, 'email': 'eugene.frazier@example.com', 'login': {'uuid': 'db7afd2e-c6aa-42ae-ad8d-5caa7ebddd6b', 'username': 'smallmouse782', 'password': '7779311', 'salt': '04S41TLf', 'md5': 'f944d0dbfbd98f354d05e4797bb4e386', 'sha1': '6e2b7959fead6ac68c5f84290f2c77dbfc01e237', 'sha256': '1b6930a3e17113e7ddb7228b2ec81f0ed25782445b91975ae8e4d20a1230680c'}, 'dob': {'date': '1950-08-16T11:44:40Z', 'age': 68}, 'registered': {'date': '2002-11-26T18:58:39Z', 'age': 16}, 'phone': '(647)-139-4289', 'cell': '(005)-401-3298', 'id': {'name': 'SSN', 'value': '212-44-5479'}, 'picture': {'large': 'https://randomuser.me/api/portraits/men/0.jpg', 'medium': 'https://randomuser.me/api/portraits/med/men/0.jpg', 'thumbnail': 'https://randomuser.me/api/portraits/thumb/men/0.jpg'}, 'nat': 'US'}, {'gender': 'male', 'name': {'title': 'mr', 'first': 'philip', 'last': 'bowman'}, 'location': {'street': '977 fairview st', 'city': 'st. louis', 'state': 'south carolina', 'postcode': 55206, 'coordinates': {'latitude': '-45.1868', 'longitude': '-49.9119'}, 'timezone': {'offset': '-3:00', 'description': 'Brazil, Buenos Aires, Georgetown'}}, 'email': 'philip.bowman@example.com', 'login': {'uuid': 'ea7fc754-c39f-4c0f-abed-b910cac10097', 'username': 'yellowkoala255', 'password': 'beethove', 'salt': '6fcaw6YI', 'md5': 'cb17285f9d2dc233012cbd2f188c09c5', 'sha1': 'eb790c3fff5e154cf626ac866777734570a3f3d4', 'sha256': '99350c72fe31c60bb72670f8593e314c80c2aa2d7ac47769e4fa06ddadf629f8'}, 'dob': {'date': '1945-05-31T08:59:24Z', 'age': 73}, 'registered': {'date': '2017-08-28T23:14:37Z', 'age': 1}, 'phone': '(803)-440-9474', 'cell': '(910)-431-7464', 'id': {'name': 'SSN', 'value': '546-07-4774'}, 'picture': {'large': 'https://randomuser.me/api/portraits/men/82.jpg', 'medium': 'https://randomuser.me/api/portraits/med/men/82.jpg', 'thumbnail': 'https://randomuser.me/api/portraits/thumb/men/82.jpg'}, 'nat': 'US'}, {'gender': 'male', 'name': {'title': 'mr', 'first': 'bryan', 'last': 'young'}, 'location': {'street': '8970 central st', 'city': 'fontana', 'state': 'new jersey', 'postcode': 98640, 'coordinates': {'latitude': '52.6053', 'longitude': '-127.9922'}, 'timezone': {'offset': '-7:00', 'description': 'Mountain Time (US & Canada)'}}, 'email': 'bryan.young@example.com', 'login': {'uuid': '6e74df00-8712-454e-9414-7797bf4c1514', 'username': 'tinyrabbit666', 'password': '66666', 'salt': 'p1fAi3MX', 'md5': 'eabc0a9e9f7ee697ff7c9c60e99fc661', 'sha1': '972f86fcebad0f950f331a05562bdc5000bb377b', 'sha256': '74c8e76337a96e132d39f6a24c8f7b25a7b1a74e275f300d507ff6bf98b163e2'}, 'dob': {'date': '1980-05-15T11:39:58Z', 'age': 38}, 'registered': {'date': '2016-11-24T10:53:03Z', 'age': 2}, 'phone': '(126)-432-8505', 'cell': '(896)-182-0768', 'id': {'name': 'SSN', 'value': '238-22-6929'}, 'picture': {'large': 'https://randomuser.me/api/portraits/men/22.jpg', 'medium': 'https://randomuser.me/api/portraits/med/men/22.jpg', 'thumbnail': 'https://randomuser.me/api/portraits/thumb/men/22.jpg'}, 'nat': 'US'}, {'gender': 'male', 'name': {'title': 'mr', 'first': 'marshall', 'last': 'ortiz'}, 'location': {'street': '4782 hunters creek dr', 'city': 'oakland', 'state': 'montana', 'postcode': 92130, 'coordinates': {'latitude': '63.5657', 'longitude': '101.9169'}, 'timezone': {'offset': '+9:00', 'description': 'Tokyo, Seoul, Osaka, Sapporo, Yakutsk'}}, 'email': 'marshall.ortiz@example.com', 'login': {'uuid': '8e1005ed-82f7-420f-9d15-671e7c6e2074', 'username': 'whiteleopard795', 'password': 'buckshot', 'salt': 'ETz74qUr', 'md5': '3541830d4f12d281e360c073a7077e55', 'sha1': '8d59d472e1c0190258a52da78c25f2592ec61512', 'sha256': '7909a112b3ce78158e79a40d77c63908efcb5a81a83f8811065ace4e9d893186'}, 'dob': {'date': '1982-03-17T10:52:25Z', 'age': 37}, 'registered': {'date': '2017-12-28T07:14:33Z', 'age': 1}, 'phone': '(340)-283-9784', 'cell': '(642)-351-1913', 'id': {'name': 'SSN', 'value': '831-38-7341'}, 'picture': {'large': 'https://randomuser.me/api/portraits/men/0.jpg', 'medium': 'https://randomuser.me/api/portraits/med/men/0.jpg', 'thumbnail': 'https://randomuser.me/api/portraits/thumb/men/0.jpg'}, 'nat': 'US'}, {'gender': 'male', 'name': {'title': 'mr', 'first': 'noah', 'last': 'riley'}, 'location': {'street': '3012 mockingbird hill', 'city': 'raleigh', 'state': 'connecticut', 'postcode': 78508, 'coordinates': {'latitude': '-71.2225', 'longitude': '107.2484'}, 'timezone': {'offset': '+2:00', 'description': 'Kaliningrad, South Africa'}}, 'email': 'noah.riley@example.com', 'login': {'uuid': '6a78790c-6bb7-492f-ae15-9f3d162e9c0e', 'username': 'yellowzebra657', 'password': 'gustav', 'salt': 'fLgbs8Qa', 'md5': 'b95822f0a88afc9cf8aaa3c68687c044', 'sha1': 'de3e7e757368d6438d6f2454d4a9496f36899e8f', 'sha256': '56a75ec2c4d618ede05564e070d27c3126ba81454498fb6d8b771647363fc7d1'}, 'dob': {'date': '1985-01-19T13:59:43Z', 'age': 34}, 'registered': {'date': '2012-06-06T05:07:47Z', 'age': 6}, 'phone': '(730)-137-8301', 'cell': '(123)-914-5873', 'id': {'name': 'SSN', 'value': '079-21-7321'}, 'picture': {'large': 'https://randomuser.me/api/portraits/men/64.jpg', 'medium': 'https://randomuser.me/api/portraits/med/men/64.jpg', 'thumbnail': 'https://randomuser.me/api/portraits/thumb/men/64.jpg'}, 'nat': 'US'}, {'gender': 'male', 'name': {'title': 'mr', 'first': 'victor', 'last': 'little'}, 'location': {'street': '5870 eason rd', 'city': 'simi valley', 'state': 'new jersey', 'postcode': 45899, 'coordinates': {'latitude': '49.9441', 'longitude': '46.4248'}, 'timezone': {'offset': '+5:45', 'description': 'Kathmandu'}}, 'email': 'victor.little@example.com', 'login': {'uuid': 'ae333a66-3e90-48df-a2e3-0bad44c34af3', 'username': 'crazyswan107', 'password': 'godfather', 'salt': 'Ls1V00I9', 'md5': '716d48982ca881ac6cb14fdcbaa08b5a', 'sha1': 'cd2355903205b133a844e9ea839f1aaa986305e3', 'sha256': '6e0b0802a63ad0fee7041c8fdc67cb99512a9d4cb0e2d410895c1b954efae7c8'}, 'dob': {'date': '1980-10-08T20:00:23Z', 'age': 38}, 'registered': {'date': '2008-12-20T18:21:15Z', 'age': 10}, 'phone': '(664)-325-0410', 'cell': '(184)-610-5374', 'id': {'name': 'SSN', 'value': '081-62-4562'}, 'picture': {'large': 'https://randomuser.me/api/portraits/men/44.jpg', 'medium': 'https://randomuser.me/api/portraits/med/men/44.jpg', 'thumbnail': 'https://randomuser.me/api/portraits/thumb/men/44.jpg'}, 'nat': 'US'}, {'gender': 'male', 'name': {'title': 'mr', 'first': 'richard', 'last': 'nichols'}, 'location': {'street': '9824 karen dr', 'city': 'las vegas', 'state': 'connecticut', 'postcode': 55387, 'coordinates': {'latitude': '78.4279', 'longitude': '140.9941'}, 'timezone': {'offset': '+5:30', 'description': 'Bombay, Calcutta, Madras, New Delhi'}}, 'email': 'richard.nichols@example.com', 'login': {'uuid': 'aad76a8e-7b6f-4e4c-82e8-cbf04604d5fc', 'username': 'heavybutterfly591', 'password': 'cleopatr', 'salt': 'vzmAtjBS', 'md5': 'f935e6e2e78ec8e510d7581bca6e6498', 'sha1': '7e96aee81bc2572e7534cc7c66255c30eef7d619', 'sha256': '1da22e26cec9d2959483e238c3b585f7ccf66d3618e85150b091d022de1940f4'}, 'dob': {'date': '1994-06-20T13:05:48Z', 'age': 24}, 'registered': {'date': '2014-01-25T19:14:37Z', 'age': 5}, 'phone': '(803)-344-0233', 'cell': '(315)-874-5238', 'id': {'name': 'SSN', 'value': '365-42-7436'}, 'picture': {'large': 'https://randomuser.me/api/portraits/men/73.jpg', 'medium': 'https://randomuser.me/api/portraits/med/men/73.jpg', 'thumbnail': 'https://randomuser.me/api/portraits/thumb/men/73.jpg'}, 'nat': 'US'}, {'gender': 'male', 'name': {'title': 'mr', 'first': 'clifford', 'last': 'henry'}, 'location': {'street': '5981 ranchview dr', 'city': 'miami', 'state': 'virginia', 'postcode': 59359, 'coordinates': {'latitude': '63.8052', 'longitude': '-4.8893'}, 'timezone': {'offset': '-4:00', 'description': 'Atlantic Time (Canada), Caracas, La Paz'}}, 'email': 'clifford.henry@example.com', 'login': {'uuid': 'b745821f-25d5-425d-8572-3bc848b2c191', 'username': 'heavygoose784', 'password': 'zhen', 'salt': 'uhd0OD6Q', 'md5': '22aed99132711fbf5848a135dff9d30e', 'sha1': 'b12b8ca648d34ed3abab34560c56b6c3862915bb', 'sha256': '075b6b66e97eab9adca92daa31686a0919615ff4e4418dd85218cf0456483f2f'}, 'dob': {'date': '1968-11-03T23:23:22Z', 'age': 50}, 'registered': {'date': '2009-02-21T11:45:47Z', 'age': 10}, 'phone': '(946)-580-1088', 'cell': '(135)-618-1255', 'id': {'name': 'SSN', 'value': '969-09-4599'}, 'picture': {'large': 'https://randomuser.me/api/portraits/men/61.jpg', 'medium': 'https://randomuser.me/api/portraits/med/men/61.jpg', 'thumbnail': 'https://randomuser.me/api/portraits/thumb/men/61.jpg'}, 'nat': 'US'}], 'info': {'seed': '9e93b501984735dd', 'results': 10, 'page': 1, 'version': '1.2'}}\n"
     ]
    }
   ],
   "source": [
    "print(data)"
   ]
  },
  {
   "cell_type": "markdown",
   "metadata": {},
   "source": [
    "* *pretty-print* (pprint) prints complex data structures like dictionary prettier.  https://docs.python.org/3/library/pprint.html "
   ]
  },
  {
   "cell_type": "code",
   "execution_count": 12,
   "metadata": {},
   "outputs": [
    {
     "name": "stdout",
     "output_type": "stream",
     "text": [
      "{'info': {'page': 1,\n",
      "          'results': 10,\n",
      "          'seed': '9e93b501984735dd',\n",
      "          'version': '1.2'},\n",
      " 'results': [{'cell': '(068)-825-7315',\n",
      "              'dob': {'age': 59, 'date': '1960-01-11T01:05:59Z'},\n",
      "              'email': 'jimmie.freeman@example.com',\n",
      "              'gender': 'male',\n",
      "              'id': {'name': 'SSN', 'value': '101-97-5247'},\n",
      "              'location': {'city': 'everett',\n",
      "                           'coordinates': {'latitude': '42.8408',\n",
      "                                           'longitude': '2.0934'},\n",
      "                           'postcode': 84468,\n",
      "                           'state': 'texas',\n",
      "                           'street': '815 fincher rd',\n",
      "                           'timezone': {'description': 'Baghdad, Riyadh, '\n",
      "                                                       'Moscow, St. Petersburg',\n",
      "                                        'offset': '+3:00'}},\n",
      "              'login': {'md5': '820f973598f7a344c97c6b4fbfadaca3',\n",
      "                        'password': 'jasmine1',\n",
      "                        'salt': '6moyniDN',\n",
      "                        'sha1': '46286af2f613586f15d7da4266b91cf7d03d1f32',\n",
      "                        'sha256': '6ca695621cbf82d66c584f3991399bdf9f4d060eff0efa9943b72fa965523059',\n",
      "                        'username': 'happypanda310',\n",
      "                        'uuid': '48144dde-3363-427a-b6b3-4b503d24e7e5'},\n",
      "              'name': {'first': 'jimmie', 'last': 'freeman', 'title': 'mr'},\n",
      "              'nat': 'US',\n",
      "              'phone': '(028)-139-4930',\n",
      "              'picture': {'large': 'https://randomuser.me/api/portraits/men/33.jpg',\n",
      "                          'medium': 'https://randomuser.me/api/portraits/med/men/33.jpg',\n",
      "                          'thumbnail': 'https://randomuser.me/api/portraits/thumb/men/33.jpg'},\n",
      "              'registered': {'age': 5, 'date': '2013-10-18T22:15:37Z'}},\n",
      "             {'cell': '(376)-648-6888',\n",
      "              'dob': {'age': 65, 'date': '1953-08-07T02:25:35Z'},\n",
      "              'email': 'elijah.dunn@example.com',\n",
      "              'gender': 'male',\n",
      "              'id': {'name': 'SSN', 'value': '372-39-6498'},\n",
      "              'location': {'city': 'lewiston',\n",
      "                           'coordinates': {'latitude': '-80.5177',\n",
      "                                           'longitude': '-177.6287'},\n",
      "                           'postcode': 49754,\n",
      "                           'state': 'south dakota',\n",
      "                           'street': '6426 spring st',\n",
      "                           'timezone': {'description': 'Hawaii',\n",
      "                                        'offset': '-10:00'}},\n",
      "              'login': {'md5': 'b91b400cd11d3ee6d094935da082ddf5',\n",
      "                        'password': 'iloveyou2',\n",
      "                        'salt': 's7SKrsZU',\n",
      "                        'sha1': '68ed7e1d24d624fd3ad246e9f90b6dfeb93116bb',\n",
      "                        'sha256': '08c82741c547d0283c69b2c5aa9003d7fae47af8fe3a2579cbf56cc350dafc98',\n",
      "                        'username': 'redwolf845',\n",
      "                        'uuid': 'add49c51-8112-4ec8-86bb-431ac7d74fb9'},\n",
      "              'name': {'first': 'elijah', 'last': 'dunn', 'title': 'mr'},\n",
      "              'nat': 'US',\n",
      "              'phone': '(366)-169-4858',\n",
      "              'picture': {'large': 'https://randomuser.me/api/portraits/men/77.jpg',\n",
      "                          'medium': 'https://randomuser.me/api/portraits/med/men/77.jpg',\n",
      "                          'thumbnail': 'https://randomuser.me/api/portraits/thumb/men/77.jpg'},\n",
      "              'registered': {'age': 2, 'date': '2016-12-14T10:33:14Z'}},\n",
      "             {'cell': '(005)-401-3298',\n",
      "              'dob': {'age': 68, 'date': '1950-08-16T11:44:40Z'},\n",
      "              'email': 'eugene.frazier@example.com',\n",
      "              'gender': 'male',\n",
      "              'id': {'name': 'SSN', 'value': '212-44-5479'},\n",
      "              'location': {'city': 'west covina',\n",
      "                           'coordinates': {'latitude': '-38.4097',\n",
      "                                           'longitude': '-70.8715'},\n",
      "                           'postcode': 13119,\n",
      "                           'state': 'south dakota',\n",
      "                           'street': '1977 photinia ave',\n",
      "                           'timezone': {'description': 'Bangkok, Hanoi, '\n",
      "                                                       'Jakarta',\n",
      "                                        'offset': '+7:00'}},\n",
      "              'login': {'md5': 'f944d0dbfbd98f354d05e4797bb4e386',\n",
      "                        'password': '7779311',\n",
      "                        'salt': '04S41TLf',\n",
      "                        'sha1': '6e2b7959fead6ac68c5f84290f2c77dbfc01e237',\n",
      "                        'sha256': '1b6930a3e17113e7ddb7228b2ec81f0ed25782445b91975ae8e4d20a1230680c',\n",
      "                        'username': 'smallmouse782',\n",
      "                        'uuid': 'db7afd2e-c6aa-42ae-ad8d-5caa7ebddd6b'},\n",
      "              'name': {'first': 'eugene', 'last': 'frazier', 'title': 'mr'},\n",
      "              'nat': 'US',\n",
      "              'phone': '(647)-139-4289',\n",
      "              'picture': {'large': 'https://randomuser.me/api/portraits/men/0.jpg',\n",
      "                          'medium': 'https://randomuser.me/api/portraits/med/men/0.jpg',\n",
      "                          'thumbnail': 'https://randomuser.me/api/portraits/thumb/men/0.jpg'},\n",
      "              'registered': {'age': 16, 'date': '2002-11-26T18:58:39Z'}},\n",
      "             {'cell': '(910)-431-7464',\n",
      "              'dob': {'age': 73, 'date': '1945-05-31T08:59:24Z'},\n",
      "              'email': 'philip.bowman@example.com',\n",
      "              'gender': 'male',\n",
      "              'id': {'name': 'SSN', 'value': '546-07-4774'},\n",
      "              'location': {'city': 'st. louis',\n",
      "                           'coordinates': {'latitude': '-45.1868',\n",
      "                                           'longitude': '-49.9119'},\n",
      "                           'postcode': 55206,\n",
      "                           'state': 'south carolina',\n",
      "                           'street': '977 fairview st',\n",
      "                           'timezone': {'description': 'Brazil, Buenos Aires, '\n",
      "                                                       'Georgetown',\n",
      "                                        'offset': '-3:00'}},\n",
      "              'login': {'md5': 'cb17285f9d2dc233012cbd2f188c09c5',\n",
      "                        'password': 'beethove',\n",
      "                        'salt': '6fcaw6YI',\n",
      "                        'sha1': 'eb790c3fff5e154cf626ac866777734570a3f3d4',\n",
      "                        'sha256': '99350c72fe31c60bb72670f8593e314c80c2aa2d7ac47769e4fa06ddadf629f8',\n",
      "                        'username': 'yellowkoala255',\n",
      "                        'uuid': 'ea7fc754-c39f-4c0f-abed-b910cac10097'},\n",
      "              'name': {'first': 'philip', 'last': 'bowman', 'title': 'mr'},\n",
      "              'nat': 'US',\n",
      "              'phone': '(803)-440-9474',\n",
      "              'picture': {'large': 'https://randomuser.me/api/portraits/men/82.jpg',\n",
      "                          'medium': 'https://randomuser.me/api/portraits/med/men/82.jpg',\n",
      "                          'thumbnail': 'https://randomuser.me/api/portraits/thumb/men/82.jpg'},\n",
      "              'registered': {'age': 1, 'date': '2017-08-28T23:14:37Z'}},\n",
      "             {'cell': '(896)-182-0768',\n",
      "              'dob': {'age': 38, 'date': '1980-05-15T11:39:58Z'},\n",
      "              'email': 'bryan.young@example.com',\n",
      "              'gender': 'male',\n",
      "              'id': {'name': 'SSN', 'value': '238-22-6929'},\n",
      "              'location': {'city': 'fontana',\n",
      "                           'coordinates': {'latitude': '52.6053',\n",
      "                                           'longitude': '-127.9922'},\n",
      "                           'postcode': 98640,\n",
      "                           'state': 'new jersey',\n",
      "                           'street': '8970 central st',\n",
      "                           'timezone': {'description': 'Mountain Time (US & '\n",
      "                                                       'Canada)',\n",
      "                                        'offset': '-7:00'}},\n",
      "              'login': {'md5': 'eabc0a9e9f7ee697ff7c9c60e99fc661',\n",
      "                        'password': '66666',\n",
      "                        'salt': 'p1fAi3MX',\n",
      "                        'sha1': '972f86fcebad0f950f331a05562bdc5000bb377b',\n",
      "                        'sha256': '74c8e76337a96e132d39f6a24c8f7b25a7b1a74e275f300d507ff6bf98b163e2',\n",
      "                        'username': 'tinyrabbit666',\n",
      "                        'uuid': '6e74df00-8712-454e-9414-7797bf4c1514'},\n",
      "              'name': {'first': 'bryan', 'last': 'young', 'title': 'mr'},\n",
      "              'nat': 'US',\n",
      "              'phone': '(126)-432-8505',\n",
      "              'picture': {'large': 'https://randomuser.me/api/portraits/men/22.jpg',\n",
      "                          'medium': 'https://randomuser.me/api/portraits/med/men/22.jpg',\n",
      "                          'thumbnail': 'https://randomuser.me/api/portraits/thumb/men/22.jpg'},\n",
      "              'registered': {'age': 2, 'date': '2016-11-24T10:53:03Z'}},\n",
      "             {'cell': '(642)-351-1913',\n",
      "              'dob': {'age': 37, 'date': '1982-03-17T10:52:25Z'},\n",
      "              'email': 'marshall.ortiz@example.com',\n",
      "              'gender': 'male',\n",
      "              'id': {'name': 'SSN', 'value': '831-38-7341'},\n",
      "              'location': {'city': 'oakland',\n",
      "                           'coordinates': {'latitude': '63.5657',\n",
      "                                           'longitude': '101.9169'},\n",
      "                           'postcode': 92130,\n",
      "                           'state': 'montana',\n",
      "                           'street': '4782 hunters creek dr',\n",
      "                           'timezone': {'description': 'Tokyo, Seoul, Osaka, '\n",
      "                                                       'Sapporo, Yakutsk',\n",
      "                                        'offset': '+9:00'}},\n",
      "              'login': {'md5': '3541830d4f12d281e360c073a7077e55',\n",
      "                        'password': 'buckshot',\n",
      "                        'salt': 'ETz74qUr',\n",
      "                        'sha1': '8d59d472e1c0190258a52da78c25f2592ec61512',\n",
      "                        'sha256': '7909a112b3ce78158e79a40d77c63908efcb5a81a83f8811065ace4e9d893186',\n",
      "                        'username': 'whiteleopard795',\n",
      "                        'uuid': '8e1005ed-82f7-420f-9d15-671e7c6e2074'},\n",
      "              'name': {'first': 'marshall', 'last': 'ortiz', 'title': 'mr'},\n",
      "              'nat': 'US',\n",
      "              'phone': '(340)-283-9784',\n",
      "              'picture': {'large': 'https://randomuser.me/api/portraits/men/0.jpg',\n",
      "                          'medium': 'https://randomuser.me/api/portraits/med/men/0.jpg',\n",
      "                          'thumbnail': 'https://randomuser.me/api/portraits/thumb/men/0.jpg'},\n",
      "              'registered': {'age': 1, 'date': '2017-12-28T07:14:33Z'}},\n",
      "             {'cell': '(123)-914-5873',\n",
      "              'dob': {'age': 34, 'date': '1985-01-19T13:59:43Z'},\n",
      "              'email': 'noah.riley@example.com',\n",
      "              'gender': 'male',\n",
      "              'id': {'name': 'SSN', 'value': '079-21-7321'},\n",
      "              'location': {'city': 'raleigh',\n",
      "                           'coordinates': {'latitude': '-71.2225',\n",
      "                                           'longitude': '107.2484'},\n",
      "                           'postcode': 78508,\n",
      "                           'state': 'connecticut',\n",
      "                           'street': '3012 mockingbird hill',\n",
      "                           'timezone': {'description': 'Kaliningrad, South '\n",
      "                                                       'Africa',\n",
      "                                        'offset': '+2:00'}},\n",
      "              'login': {'md5': 'b95822f0a88afc9cf8aaa3c68687c044',\n",
      "                        'password': 'gustav',\n",
      "                        'salt': 'fLgbs8Qa',\n",
      "                        'sha1': 'de3e7e757368d6438d6f2454d4a9496f36899e8f',\n",
      "                        'sha256': '56a75ec2c4d618ede05564e070d27c3126ba81454498fb6d8b771647363fc7d1',\n",
      "                        'username': 'yellowzebra657',\n",
      "                        'uuid': '6a78790c-6bb7-492f-ae15-9f3d162e9c0e'},\n",
      "              'name': {'first': 'noah', 'last': 'riley', 'title': 'mr'},\n",
      "              'nat': 'US',\n",
      "              'phone': '(730)-137-8301',\n",
      "              'picture': {'large': 'https://randomuser.me/api/portraits/men/64.jpg',\n",
      "                          'medium': 'https://randomuser.me/api/portraits/med/men/64.jpg',\n",
      "                          'thumbnail': 'https://randomuser.me/api/portraits/thumb/men/64.jpg'},\n",
      "              'registered': {'age': 6, 'date': '2012-06-06T05:07:47Z'}},\n",
      "             {'cell': '(184)-610-5374',\n",
      "              'dob': {'age': 38, 'date': '1980-10-08T20:00:23Z'},\n",
      "              'email': 'victor.little@example.com',\n",
      "              'gender': 'male',\n",
      "              'id': {'name': 'SSN', 'value': '081-62-4562'},\n",
      "              'location': {'city': 'simi valley',\n",
      "                           'coordinates': {'latitude': '49.9441',\n",
      "                                           'longitude': '46.4248'},\n",
      "                           'postcode': 45899,\n",
      "                           'state': 'new jersey',\n",
      "                           'street': '5870 eason rd',\n",
      "                           'timezone': {'description': 'Kathmandu',\n",
      "                                        'offset': '+5:45'}},\n",
      "              'login': {'md5': '716d48982ca881ac6cb14fdcbaa08b5a',\n",
      "                        'password': 'godfather',\n",
      "                        'salt': 'Ls1V00I9',\n",
      "                        'sha1': 'cd2355903205b133a844e9ea839f1aaa986305e3',\n",
      "                        'sha256': '6e0b0802a63ad0fee7041c8fdc67cb99512a9d4cb0e2d410895c1b954efae7c8',\n",
      "                        'username': 'crazyswan107',\n",
      "                        'uuid': 'ae333a66-3e90-48df-a2e3-0bad44c34af3'},\n",
      "              'name': {'first': 'victor', 'last': 'little', 'title': 'mr'},\n",
      "              'nat': 'US',\n",
      "              'phone': '(664)-325-0410',\n",
      "              'picture': {'large': 'https://randomuser.me/api/portraits/men/44.jpg',\n",
      "                          'medium': 'https://randomuser.me/api/portraits/med/men/44.jpg',\n",
      "                          'thumbnail': 'https://randomuser.me/api/portraits/thumb/men/44.jpg'},\n",
      "              'registered': {'age': 10, 'date': '2008-12-20T18:21:15Z'}},\n",
      "             {'cell': '(315)-874-5238',\n",
      "              'dob': {'age': 24, 'date': '1994-06-20T13:05:48Z'},\n",
      "              'email': 'richard.nichols@example.com',\n",
      "              'gender': 'male',\n",
      "              'id': {'name': 'SSN', 'value': '365-42-7436'},\n",
      "              'location': {'city': 'las vegas',\n",
      "                           'coordinates': {'latitude': '78.4279',\n",
      "                                           'longitude': '140.9941'},\n",
      "                           'postcode': 55387,\n",
      "                           'state': 'connecticut',\n",
      "                           'street': '9824 karen dr',\n",
      "                           'timezone': {'description': 'Bombay, Calcutta, '\n",
      "                                                       'Madras, New Delhi',\n",
      "                                        'offset': '+5:30'}},\n",
      "              'login': {'md5': 'f935e6e2e78ec8e510d7581bca6e6498',\n",
      "                        'password': 'cleopatr',\n",
      "                        'salt': 'vzmAtjBS',\n",
      "                        'sha1': '7e96aee81bc2572e7534cc7c66255c30eef7d619',\n",
      "                        'sha256': '1da22e26cec9d2959483e238c3b585f7ccf66d3618e85150b091d022de1940f4',\n",
      "                        'username': 'heavybutterfly591',\n",
      "                        'uuid': 'aad76a8e-7b6f-4e4c-82e8-cbf04604d5fc'},\n",
      "              'name': {'first': 'richard', 'last': 'nichols', 'title': 'mr'},\n",
      "              'nat': 'US',\n",
      "              'phone': '(803)-344-0233',\n",
      "              'picture': {'large': 'https://randomuser.me/api/portraits/men/73.jpg',\n",
      "                          'medium': 'https://randomuser.me/api/portraits/med/men/73.jpg',\n",
      "                          'thumbnail': 'https://randomuser.me/api/portraits/thumb/men/73.jpg'},\n",
      "              'registered': {'age': 5, 'date': '2014-01-25T19:14:37Z'}},\n",
      "             {'cell': '(135)-618-1255',\n",
      "              'dob': {'age': 50, 'date': '1968-11-03T23:23:22Z'},\n",
      "              'email': 'clifford.henry@example.com',\n",
      "              'gender': 'male',\n",
      "              'id': {'name': 'SSN', 'value': '969-09-4599'},\n",
      "              'location': {'city': 'miami',\n",
      "                           'coordinates': {'latitude': '63.8052',\n",
      "                                           'longitude': '-4.8893'},\n",
      "                           'postcode': 59359,\n",
      "                           'state': 'virginia',\n",
      "                           'street': '5981 ranchview dr',\n",
      "                           'timezone': {'description': 'Atlantic Time '\n",
      "                                                       '(Canada), Caracas, La '\n",
      "                                                       'Paz',\n",
      "                                        'offset': '-4:00'}},\n",
      "              'login': {'md5': '22aed99132711fbf5848a135dff9d30e',\n",
      "                        'password': 'zhen',\n",
      "                        'salt': 'uhd0OD6Q',\n",
      "                        'sha1': 'b12b8ca648d34ed3abab34560c56b6c3862915bb',\n",
      "                        'sha256': '075b6b66e97eab9adca92daa31686a0919615ff4e4418dd85218cf0456483f2f',\n",
      "                        'username': 'heavygoose784',\n",
      "                        'uuid': 'b745821f-25d5-425d-8572-3bc848b2c191'},\n",
      "              'name': {'first': 'clifford', 'last': 'henry', 'title': 'mr'},\n",
      "              'nat': 'US',\n",
      "              'phone': '(946)-580-1088',\n",
      "              'picture': {'large': 'https://randomuser.me/api/portraits/men/61.jpg',\n",
      "                          'medium': 'https://randomuser.me/api/portraits/med/men/61.jpg',\n",
      "                          'thumbnail': 'https://randomuser.me/api/portraits/thumb/men/61.jpg'},\n",
      "              'registered': {'age': 10, 'date': '2009-02-21T11:45:47Z'}}]}\n"
     ]
    }
   ],
   "source": [
    "from pprint import pprint\n",
    "pprint(data)"
   ]
  },
  {
   "cell_type": "markdown",
   "metadata": {},
   "source": [
    "* Loop through the dictionary and print all first names"
   ]
  },
  {
   "cell_type": "code",
   "execution_count": 13,
   "metadata": {},
   "outputs": [
    {
     "name": "stdout",
     "output_type": "stream",
     "text": [
      "jimmie\n",
      "elijah\n",
      "eugene\n",
      "philip\n",
      "bryan\n",
      "marshall\n",
      "noah\n",
      "victor\n",
      "richard\n",
      "clifford\n"
     ]
    }
   ],
   "source": [
    "# TODO\n",
    "first_name= data['results'] \n",
    "for i in range(len(first_name)):\n",
    "    print(first_name[i]['name']['first'])"
   ]
  },
  {
   "cell_type": "markdown",
   "metadata": {},
   "source": [
    "* Get all astronauts who are right now in space. You get the information about the Web APU from here  http://open-notify.org/Open-Notify-API/People-In-Space/ "
   ]
  },
  {
   "cell_type": "code",
   "execution_count": 14,
   "metadata": {},
   "outputs": [
    {
     "data": {
      "text/plain": [
       "{'message': 'success',\n",
       " 'number': 6,\n",
       " 'people': [{'craft': 'ISS', 'name': 'Oleg Kononenko'},\n",
       "  {'craft': 'ISS', 'name': 'David Saint-Jacques'},\n",
       "  {'craft': 'ISS', 'name': 'Anne McClain'},\n",
       "  {'craft': 'ISS', 'name': 'Alexey Ovchinin'},\n",
       "  {'craft': 'ISS', 'name': 'Nick Hague'},\n",
       "  {'craft': 'ISS', 'name': 'Christina Koch'}]}"
      ]
     },
     "execution_count": 14,
     "metadata": {},
     "output_type": "execute_result"
    }
   ],
   "source": [
    "# TODO\n",
    "url=requests.get('http://api.open-notify.org/astros.json')\n",
    "data=json.loads(url.text)\n",
    "data"
   ]
  },
  {
   "cell_type": "markdown",
   "metadata": {},
   "source": [
    "* Print the number of people that are right now in space"
   ]
  },
  {
   "cell_type": "code",
   "execution_count": 52,
   "metadata": {},
   "outputs": [
    {
     "data": {
      "text/plain": [
       "6"
      ]
     },
     "execution_count": 52,
     "metadata": {},
     "output_type": "execute_result"
    }
   ],
   "source": [
    "# TODO\n",
    "space_data['number']"
   ]
  },
  {
   "cell_type": "markdown",
   "metadata": {},
   "source": [
    "* Print the names of all astronauts "
   ]
  },
  {
   "cell_type": "code",
   "execution_count": 61,
   "metadata": {},
   "outputs": [
    {
     "name": "stdout",
     "output_type": "stream",
     "text": [
      "Oleg Kononenko\n",
      "David Saint-Jacques\n",
      "Anne McClain\n",
      "Alexey Ovchinin\n",
      "Nick Hague\n",
      "Christina Koch\n"
     ]
    }
   ],
   "source": [
    "# TODO\n",
    "for i in range(space_data['number']):\n",
    "    print(space_data['people'][i]['name'])"
   ]
  },
  {
   "cell_type": "markdown",
   "metadata": {},
   "source": [
    "* A lot of Web APIs require a api-key for interacting with them (like Twitter, Facebook, …). You find at http://www.python-requests.org/en/latest/user/authentication/ more information for Authentication for Web APIs with the request package\n",
    "* There are also special Python packages for interacting with services. E.g. for Twitter: http://www.tweepy.org/ or  https://github.com/bear/python-twitter \n",
    "\n",
    "See e.g. http://socialmedia-class.org/twittertutorial.html for a tutorial"
   ]
  },
  {
   "cell_type": "markdown",
   "metadata": {},
   "source": [
    "## 2. Creating a Web API\n",
    "\n",
    "* Create a folder `webapi` and change into it.\n",
    "* Create in the `webapi` folder a file with the name `Dockerfile` with the following content:\n",
    "\n",
    "----\n",
    "```bash\n",
    "# Use an official Python runtime as a parent image\n",
    "FROM python:3.7-slim\n",
    "\n",
    "# Set the working directory to /app\n",
    "WORKDIR /app\n",
    "\n",
    "# Copy the current directory contents into the container at /app\n",
    "COPY app/ /app\n",
    "\n",
    "# Install any needed packages specified in requirements.txt\n",
    "RUN pip install --trusted-host pypi.python.org -r requirements.txt\n",
    "\n",
    "# Make port 80 available to the world outside this container\n",
    "EXPOSE 80\n",
    "\n",
    "# Run app.py when the container launches\n",
    "CMD [\"python\", \"app.py\"]\n",
    "```\n",
    "\n",
    "-----\n",
    "\n",
    "* We can also use Docker compose with just one service. Create in your `webapi` folder a `docker-compose.yml` file:\n",
    "\n",
    "-----\n",
    "\n",
    "```yaml\n",
    "version: '3'\n",
    "services:\n",
    "  api:\n",
    "    build: .\n",
    "    ports:\n",
    "      - \"5000:80\"\n",
    "    restart: always\n",
    "    volumes:\n",
    "      - ./app:/app\n",
    "```\n",
    "-----\n",
    "\n",
    "* Create a folder in the `webapi` folder a new folder with the name `app`\n",
    "* We will build a web API with `Flask` (http://flask.pocoo.org/) . Create a `requirements.txt` file in the `app` folder. Here we can specify all python `pip` packages that we need:\n",
    "\n",
    "-----\n",
    "```bash\n",
    "Flask\n",
    "```\n",
    "-----\n",
    "\n",
    "* Create the `app.py` file in the `app` folder:\n",
    "\n",
    "-----\n",
    "```python\n",
    "from flask import Flask\n",
    "from flask import request, jsonify\n",
    "\n",
    "app = Flask(__name__)\n",
    "\n",
    "courses = [\n",
    "    {'id': 0,\n",
    "     'title': 'Data Science',\n",
    "     'professor': 'Markus Löcher',\n",
    "     'semester': '1'},\n",
    "    {'id': 1,\n",
    "     'title': 'Data Warehousing',\n",
    "     'professor': 'Roland M. Mueller',\n",
    "     'semester': '1'},\n",
    "    {'id': 2,\n",
    "     'title': 'Business Process Management',\n",
    "     'professor': 'Frank Habermann',\n",
    "     'semester': '1'},\n",
    "    {'id': 3,\n",
    "     'title': 'Stratigic Issues of IT',\n",
    "     'professor': 'Sven Pohland',\n",
    "     'semester': '1'},\n",
    "    {'id': 4,\n",
    "     'title': 'Text, Web and Social Media Analytics Lab',\n",
    "     'professor': 'Markus Löcher',\n",
    "     'semester': '2'},\n",
    "    {'id': 5,\n",
    "     'title': 'Enterprise Architectures for Big Data',\n",
    "     'professor': 'Roland M. Mueller',\n",
    "     'semester': '2'},\n",
    "    {'id': 6,\n",
    "     'title': 'Business Process Integration Lab',\n",
    "     'professor': 'Frank Habermann',\n",
    "     'semester': '2'},\n",
    "    {'id': 7,\n",
    "     'title': 'IT-Security and Privacy',\n",
    "     'professor': 'Dennis Uckel',\n",
    "     'semester': '2'},\n",
    "    {'id': 8,\n",
    "     'title': 'Research Methods',\n",
    "     'professor': 'Marcus Birkenkrahe',\n",
    "     'semester': '2'},\n",
    "]\n",
    "\n",
    "@app.route('/api/v1/courses/all', methods=['GET'])\n",
    "def api_all():\n",
    "    return jsonify(courses)\n",
    "\n",
    "@app.route('/api/v1/courses', methods=['GET'])\n",
    "def api_id():\n",
    "    # Check if an ID was provided as part of the URL.\n",
    "    # If ID is provided, assign it to a variable.\n",
    "    # If no ID is provided, display an error in the browser.\n",
    "    if 'id' in request.args:\n",
    "        id = int(request.args['id'])\n",
    "    else:\n",
    "        return \"Error: No id field provided. Please specify an id.\"\n",
    "\n",
    "    # Create an empty list for our results\n",
    "    results = []\n",
    "\n",
    "    # Loop through the data and match results that fit the requested ID.\n",
    "    # IDs are unique, but other fields might return many results\n",
    "    for course in courses:\n",
    "        if course['id'] == id:\n",
    "            results.append(course)\n",
    "\n",
    "    # Use the jsonify function from Flask to convert our list of\n",
    "    # Python dictionaries to the JSON format.\n",
    "    return jsonify(results)\n",
    "\n",
    "if __name__ == \"__main__\":\n",
    "    app.run(host=\"0.0.0.0\", port=80, debug=True)\n",
    "```\n",
    "-----\n",
    "* Open http://localhost:5000/api/v1/courses/all in a browser\n",
    "* Open http://localhost:5000/api/v1/courses?id=5 in a browser\n"
   ]
  },
  {
   "cell_type": "markdown",
   "metadata": {
    "collapsed": true
   },
   "source": [
    "* Use your own API here in the Jupyter Notebook with Python and print all names of all courses "
   ]
  },
  {
   "cell_type": "code",
   "execution_count": 36,
   "metadata": {},
   "outputs": [
    {
     "name": "stdout",
     "output_type": "stream",
     "text": [
      "Data Science\n",
      "Data Warehousing\n",
      "Business Process Management\n",
      "Stratigic Issues of IT\n",
      "Text, Web and Social Media Analytics Lab\n",
      "Enterprise Architectures for Big Data\n",
      "Business Process Integration Lab\n",
      "IT-Security and Privacy\n",
      "Research Methods\n"
     ]
    }
   ],
   "source": [
    "# TODO\n",
    "url_r = requests.get('http://localhost:5000/api/v1/courses/all')\n",
    "r = json.loads(url_r.text)\n",
    "\n",
    "for i in range(len(r)):\n",
    "    print(r[i]['title'])"
   ]
  },
  {
   "cell_type": "markdown",
   "metadata": {},
   "source": [
    "* Add the possibility to find courses based on the semester\n",
    "* Use your API in Python and print all names of all courses in the second semester"
   ]
  },
  {
   "cell_type": "code",
   "execution_count": 37,
   "metadata": {},
   "outputs": [
    {
     "name": "stdout",
     "output_type": "stream",
     "text": [
      "Text, Web and Social Media Analytics Lab\n",
      "Enterprise Architectures for Big Data\n",
      "Business Process Integration Lab\n",
      "IT-Security and Privacy\n",
      "Research Methods\n"
     ]
    }
   ],
   "source": [
    "# TODO\n",
    "url_r_sem = requests.get('http://localhost:5000/api/v1/courses/semester?semester=2')\n",
    "r = json.loads(url_r_sem.text)\n",
    "\n",
    "for i in range(len(r)):\n",
    "    print(r[i]['title'])"
   ]
  },
  {
   "cell_type": "markdown",
   "metadata": {},
   "source": [
    "* Add a function that can convert Fahrenheit to Celsius \n",
    "* Call your API and get the Celsius value for 100°F Fahrenheit"
   ]
  },
  {
   "cell_type": "code",
   "execution_count": 39,
   "metadata": {},
   "outputs": [
    {
     "data": {
      "text/plain": [
       "'100 degrees in Fahrenheit is/are 37.77777777777778 degrees in Celcius'"
      ]
     },
     "execution_count": 39,
     "metadata": {},
     "output_type": "execute_result"
    }
   ],
   "source": [
    "# TODO\n",
    "requests.get('http://localhost:5000/api/v1/converter?degrees=100').text"
   ]
  }
 ],
 "metadata": {
  "kernelspec": {
   "display_name": "Python 3",
   "language": "python",
   "name": "python3"
  },
  "language_info": {
   "codemirror_mode": {
    "name": "ipython",
    "version": 3
   },
   "file_extension": ".py",
   "mimetype": "text/x-python",
   "name": "python",
   "nbconvert_exporter": "python",
   "pygments_lexer": "ipython3",
   "version": "3.7.3"
  },
  "varInspector": {
   "cols": {
    "lenName": 16,
    "lenType": 16,
    "lenVar": 40
   },
   "kernels_config": {
    "python": {
     "delete_cmd_postfix": "",
     "delete_cmd_prefix": "del ",
     "library": "var_list.py",
     "varRefreshCmd": "print(var_dic_list())"
    },
    "r": {
     "delete_cmd_postfix": ") ",
     "delete_cmd_prefix": "rm(",
     "library": "var_list.r",
     "varRefreshCmd": "cat(var_dic_list()) "
    }
   },
   "types_to_exclude": [
    "module",
    "function",
    "builtin_function_or_method",
    "instance",
    "_Feature"
   ],
   "window_display": false
  }
 },
 "nbformat": 4,
 "nbformat_minor": 2
}

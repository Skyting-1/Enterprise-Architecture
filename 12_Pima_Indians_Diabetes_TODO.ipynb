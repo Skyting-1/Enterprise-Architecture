{
 "cells": [
  {
   "cell_type": "markdown",
   "metadata": {},
   "source": [
    "# Data \n",
    "\n",
    "The Pima Indians dataset is about the prediction of diabetes . This is a small dataset available from the UCI Machine Learning Repository. https://archive.ics.uci.edu/ml/datasets/Pima+Indians+Diabetes\n",
    "\n",
    "**Attribute Information:**\n",
    "\n",
    "1. Number of times pregnant\n",
    "2. Plasma glucose concentration a 2 hours in an oral glucose tolerance test\n",
    "3. Diastolic blood pressure (mm Hg)\n",
    "4. Triceps skin fold thickness (mm)\n",
    "5. 2-Hour serum insulin (mu U/ml)\n",
    "6. Body mass index (weight in kg/(height in m)^2)\n",
    "7. Diabetes pedigree function\n",
    "8. Age (years)\n",
    "9. Class variable (0 or 1) (diabetes mellitus)"
   ]
  },
  {
   "cell_type": "code",
   "execution_count": 1,
   "metadata": {},
   "outputs": [
    {
     "name": "stdout",
     "output_type": "stream",
     "text": [
      "--2019-06-10 13:58:27--  https://gist.githubusercontent.com/ktisha/c21e73a1bd1700294ef790c56c8aec1f/raw/819b69b5736821ccee93d05b51de0510bea00294/pima-indians-diabetes.csv\n",
      "Resolving gist.githubusercontent.com (gist.githubusercontent.com)... 151.101.36.133\n",
      "Connecting to gist.githubusercontent.com (gist.githubusercontent.com)|151.101.36.133|:443... connected.\n",
      "HTTP request sent, awaiting response... 200 OK\n",
      "Length: 23628 (23K) [text/plain]\n",
      "Saving to: 'pima-indians-diabetes.csv'\n",
      "\n",
      "pima-indians-diabet 100%[===================>]  23.07K  --.-KB/s    in 0.02s   \n",
      "\n",
      "2019-06-10 13:58:27 (1.22 MB/s) - 'pima-indians-diabetes.csv' saved [23628/23628]\n",
      "\n"
     ]
    }
   ],
   "source": [
    "# Download the data\n",
    "! wget -O pima-indians-diabetes.csv https://gist.githubusercontent.com/ktisha/c21e73a1bd1700294ef790c56c8aec1f/raw/819b69b5736821ccee93d05b51de0510bea00294/pima-indians-diabetes.csv"
   ]
  },
  {
   "cell_type": "code",
   "execution_count": 2,
   "metadata": {},
   "outputs": [
    {
     "name": "stdout",
     "output_type": "stream",
     "text": [
      "total 704\r\n",
      "-rwxr-xr-x@ 1 sgupta  staff  12025 Jun  6 06:29 \u001b[31m1 Timing Algorithms.ipynb\u001b[m\u001b[m*\r\n",
      "-rwxr-xr-x@ 1 sgupta  staff  24900 Jun  6 06:29 \u001b[31m10 MongoDB-Todo.ipynb\u001b[m\u001b[m*\r\n",
      "-rwxr-xr-x@ 1 sgupta  staff   8445 Jun 10 14:00 \u001b[31m12_Pima_Indians_Diabetes_TODO.ipynb\u001b[m\u001b[m*\r\n",
      "-rwxr-xr-x@ 1 sgupta  staff   7094 Jun  6 06:29 \u001b[31m2 Finding values in collections Solution.ipynb\u001b[m\u001b[m*\r\n",
      "-rwxr-xr-x@ 1 sgupta  staff   5800 Jun  6 06:29 \u001b[31m2 Finding values in collections Todo.ipynb\u001b[m\u001b[m*\r\n",
      "-rwxr-xr-x@ 1 sgupta  staff  68221 Jun  6 06:29 \u001b[31m3 Time Complexity-Solution.ipynb\u001b[m\u001b[m*\r\n",
      "-rwxr-xr-x@ 1 sgupta  staff  30348 Jun  6 06:29 \u001b[31m3 Time Complexity.ipynb\u001b[m\u001b[m*\r\n",
      "-rwxr-xr-x@ 1 sgupta  staff  19962 Jun  6 06:29 \u001b[31m4 Decision Trees Solution.ipynb\u001b[m\u001b[m*\r\n",
      "-rwxr-xr-x@ 1 sgupta  staff   3844 Jun  6 06:29 \u001b[31m4 Decision Trees Todo.ipynb\u001b[m\u001b[m*\r\n",
      "-rwxr-xr-x@ 1 sgupta  staff  16729 Jun  6 06:29 \u001b[31m5 Programming Paradigms.ipynb\u001b[m\u001b[m*\r\n",
      "-rwxr-xr-x@ 1 sgupta  staff   4608 Jun  6 06:29 \u001b[31m6 Linked-List-Todo.ipynb\u001b[m\u001b[m*\r\n",
      "-rwxr-xr-x@ 1 sgupta  staff   3596 Jun  6 06:29 \u001b[31m7 Binary Search Tree-Todo.ipynb\u001b[m\u001b[m*\r\n",
      "-rwxr-xr-x@ 1 sgupta  staff  63785 Jun  6 06:29 \u001b[31m8 Amdahl's Law.ipynb\u001b[m\u001b[m*\r\n",
      "-rwxr-xr-x@ 1 sgupta  staff  15309 Jun  6 06:29 \u001b[31m9 Web API.ipynb\u001b[m\u001b[m*\r\n",
      "-rwxr-xr-x@ 1 sgupta  staff  22156 Jun  6 06:29 \u001b[31mdocker.md\u001b[m\u001b[m*\r\n",
      "-rw-r--r--  1 sgupta  staff  23628 Jun 10 13:58 pima-indians-diabetes.csv\r\n"
     ]
    }
   ],
   "source": [
    "# check if the data is downloaded\n",
    "%ls -l"
   ]
  },
  {
   "cell_type": "code",
   "execution_count": 3,
   "metadata": {},
   "outputs": [
    {
     "name": "stderr",
     "output_type": "stream",
     "text": [
      "Using TensorFlow backend.\n"
     ]
    }
   ],
   "source": [
    "from sklearn.model_selection import train_test_split\n",
    "from keras.models import Sequential\n",
    "from keras.layers import Dense\n",
    "import matplotlib.pyplot as plt\n",
    "from matplotlib.ticker import MaxNLocator\n",
    "import numpy as np"
   ]
  },
  {
   "cell_type": "code",
   "execution_count": 4,
   "metadata": {},
   "outputs": [],
   "source": [
    "# fix random seed for reproducibility\n",
    "seed = 7\n",
    "np.random.seed(seed)"
   ]
  },
  {
   "cell_type": "code",
   "execution_count": 5,
   "metadata": {},
   "outputs": [],
   "source": [
    "# load pima indians dataset\n",
    "dataset = np.loadtxt(\"pima-indians-diabetes.csv\", delimiter=\",\")"
   ]
  },
  {
   "cell_type": "code",
   "execution_count": 13,
   "metadata": {},
   "outputs": [],
   "source": [
    "# split dataset into input (X) and output (Y) variables\n",
    "# output is the last column\n",
    "X = dataset[:,:-1]\n",
    "y = dataset[:,-1]"
   ]
  },
  {
   "cell_type": "code",
   "execution_count": 14,
   "metadata": {},
   "outputs": [
    {
     "data": {
      "text/plain": [
       "(768, 8)"
      ]
     },
     "execution_count": 14,
     "metadata": {},
     "output_type": "execute_result"
    }
   ],
   "source": [
    "# print the shape of x\n",
    "#\n",
    "# TODO\n",
    "X.shape"
   ]
  },
  {
   "cell_type": "code",
   "execution_count": 15,
   "metadata": {},
   "outputs": [
    {
     "data": {
      "text/plain": [
       "8"
      ]
     },
     "execution_count": 15,
     "metadata": {},
     "output_type": "execute_result"
    }
   ],
   "source": [
    "# save to number of input dimensions in input_dim\n",
    "input_dim = X.shape[1]\n",
    "input_dim"
   ]
  },
  {
   "cell_type": "code",
   "execution_count": 16,
   "metadata": {},
   "outputs": [
    {
     "data": {
      "text/plain": [
       "(768,)"
      ]
     },
     "execution_count": 16,
     "metadata": {},
     "output_type": "execute_result"
    }
   ],
   "source": [
    "# shape of y\n",
    "# TODo\n",
    "y.shape"
   ]
  },
  {
   "cell_type": "code",
   "execution_count": 17,
   "metadata": {},
   "outputs": [],
   "source": [
    "# Create training and test sets\n",
    "# Test size should be 15%\n",
    "# The test and train set should be stratified\n",
    "# use a random state (for reproducability) of 42\n",
    "# TODO\n",
    "X_train, X_test, y_train, y_test = train_test_split(X, y, test_size = 0.15, random_state = 42, stratify = y)"
   ]
  },
  {
   "cell_type": "code",
   "execution_count": 18,
   "metadata": {},
   "outputs": [
    {
     "data": {
      "text/plain": [
       "(116, 8)"
      ]
     },
     "execution_count": 18,
     "metadata": {},
     "output_type": "execute_result"
    }
   ],
   "source": [
    "# shape of X_test\n",
    "# TODO\n",
    "X_test.shape"
   ]
  },
  {
   "cell_type": "markdown",
   "metadata": {},
   "source": [
    "# Model"
   ]
  },
  {
   "cell_type": "code",
   "execution_count": 20,
   "metadata": {},
   "outputs": [
    {
     "name": "stdout",
     "output_type": "stream",
     "text": [
      "WARNING:tensorflow:From /anaconda3/lib/python3.7/site-packages/tensorflow/python/framework/op_def_library.py:263: colocate_with (from tensorflow.python.framework.ops) is deprecated and will be removed in a future version.\n",
      "Instructions for updating:\n",
      "Colocations handled automatically by placer.\n"
     ]
    }
   ],
   "source": [
    "# 1. Create Sequential model\n",
    "# 2. + 3. Add two hidden dense layers with 12 and 8 nodes. Both should have Relu activations \n",
    "# 4. Add a final output layer\n",
    "# Think about how many nodes the final output layer should have and what activation function is appropiate\n",
    "# TODO\n",
    "model = Sequential()\n",
    "model.add(Dense(12, activation = 'relu', input_dim=input_dim))\n",
    "model.add(Dense(8, activation = 'relu'))\n",
    "model.add(Dense(1, activation = 'sigmoid'))"
   ]
  },
  {
   "cell_type": "code",
   "execution_count": 21,
   "metadata": {},
   "outputs": [],
   "source": [
    "# Compile the model\n",
    "# Think about what loss function is appropiate\n",
    "# Use as the optimizer Adam\n",
    "# Track as an additional metric Accuracy\n",
    "# TODO\n",
    "model.compile(optimizer = 'adam', loss = 'binary_crossentropy', metrics = ['accuracy'])"
   ]
  },
  {
   "cell_type": "code",
   "execution_count": 23,
   "metadata": {},
   "outputs": [
    {
     "name": "stdout",
     "output_type": "stream",
     "text": [
      "WARNING:tensorflow:From /anaconda3/lib/python3.7/site-packages/tensorflow/python/ops/math_ops.py:3066: to_int32 (from tensorflow.python.ops.math_ops) is deprecated and will be removed in a future version.\n",
      "Instructions for updating:\n",
      "Use tf.cast instead.\n",
      "Train on 554 samples, validate on 98 samples\n",
      "Epoch 1/300\n",
      "554/554 [==============================] - 0s 813us/step - loss: 4.5575 - acc: 0.6173 - val_loss: 2.9822 - val_acc: 0.6531\n",
      "Epoch 2/300\n",
      "554/554 [==============================] - 0s 127us/step - loss: 1.7172 - acc: 0.5794 - val_loss: 1.0740 - val_acc: 0.6122\n",
      "Epoch 3/300\n",
      "554/554 [==============================] - 0s 131us/step - loss: 0.8462 - acc: 0.6065 - val_loss: 0.8166 - val_acc: 0.6735\n",
      "Epoch 4/300\n",
      "554/554 [==============================] - 0s 141us/step - loss: 0.7615 - acc: 0.6318 - val_loss: 0.7324 - val_acc: 0.6939\n",
      "Epoch 5/300\n",
      "554/554 [==============================] - 0s 134us/step - loss: 0.7083 - acc: 0.6588 - val_loss: 0.7580 - val_acc: 0.6735\n",
      "Epoch 6/300\n",
      "554/554 [==============================] - 0s 139us/step - loss: 0.7145 - acc: 0.6570 - val_loss: 0.6996 - val_acc: 0.6837\n",
      "Epoch 7/300\n",
      "554/554 [==============================] - 0s 177us/step - loss: 0.6811 - acc: 0.6823 - val_loss: 0.6913 - val_acc: 0.6939\n",
      "Epoch 8/300\n",
      "554/554 [==============================] - 0s 172us/step - loss: 0.6739 - acc: 0.6859 - val_loss: 0.6700 - val_acc: 0.7041\n",
      "Epoch 9/300\n",
      "554/554 [==============================] - 0s 155us/step - loss: 0.6725 - acc: 0.6588 - val_loss: 0.7131 - val_acc: 0.7245\n",
      "Epoch 10/300\n",
      "554/554 [==============================] - 0s 175us/step - loss: 0.6448 - acc: 0.6913 - val_loss: 0.7140 - val_acc: 0.6735\n",
      "Epoch 11/300\n",
      "554/554 [==============================] - 0s 178us/step - loss: 0.6476 - acc: 0.6913 - val_loss: 0.7041 - val_acc: 0.6122\n",
      "Epoch 12/300\n",
      "554/554 [==============================] - 0s 176us/step - loss: 0.6272 - acc: 0.6895 - val_loss: 0.6743 - val_acc: 0.7041\n",
      "Epoch 13/300\n",
      "554/554 [==============================] - 0s 156us/step - loss: 0.6179 - acc: 0.6841 - val_loss: 0.6952 - val_acc: 0.6224\n",
      "Epoch 14/300\n",
      "554/554 [==============================] - 0s 203us/step - loss: 0.6285 - acc: 0.6733 - val_loss: 0.6775 - val_acc: 0.7143\n",
      "Epoch 15/300\n",
      "554/554 [==============================] - 0s 189us/step - loss: 0.6038 - acc: 0.7040 - val_loss: 0.6595 - val_acc: 0.7041\n",
      "Epoch 16/300\n",
      "554/554 [==============================] - 0s 155us/step - loss: 0.6030 - acc: 0.7076 - val_loss: 0.7740 - val_acc: 0.5918\n",
      "Epoch 17/300\n",
      "554/554 [==============================] - 0s 133us/step - loss: 0.6269 - acc: 0.6552 - val_loss: 0.6540 - val_acc: 0.6939\n",
      "Epoch 18/300\n",
      "554/554 [==============================] - 0s 158us/step - loss: 0.5918 - acc: 0.7004 - val_loss: 0.6803 - val_acc: 0.6224\n",
      "Epoch 19/300\n",
      "554/554 [==============================] - 0s 175us/step - loss: 0.5988 - acc: 0.6769 - val_loss: 0.6644 - val_acc: 0.6122\n",
      "Epoch 20/300\n",
      "554/554 [==============================] - 0s 152us/step - loss: 0.5989 - acc: 0.6913 - val_loss: 0.6563 - val_acc: 0.7245\n",
      "Epoch 21/300\n",
      "554/554 [==============================] - 0s 156us/step - loss: 0.5833 - acc: 0.6895 - val_loss: 0.6423 - val_acc: 0.7041\n",
      "Epoch 22/300\n",
      "554/554 [==============================] - 0s 164us/step - loss: 0.5975 - acc: 0.6931 - val_loss: 0.7537 - val_acc: 0.6122\n",
      "Epoch 23/300\n",
      "554/554 [==============================] - 0s 172us/step - loss: 0.5726 - acc: 0.6968 - val_loss: 0.6349 - val_acc: 0.7245\n",
      "Epoch 24/300\n",
      "554/554 [==============================] - 0s 171us/step - loss: 0.5829 - acc: 0.6913 - val_loss: 0.6432 - val_acc: 0.6531\n",
      "Epoch 25/300\n",
      "554/554 [==============================] - 0s 148us/step - loss: 0.5849 - acc: 0.6949 - val_loss: 0.6271 - val_acc: 0.7143\n",
      "Epoch 26/300\n",
      "554/554 [==============================] - 0s 149us/step - loss: 0.6183 - acc: 0.6823 - val_loss: 0.6694 - val_acc: 0.6735\n",
      "Epoch 27/300\n",
      "554/554 [==============================] - 0s 141us/step - loss: 0.5682 - acc: 0.6986 - val_loss: 0.6303 - val_acc: 0.7347\n",
      "Epoch 28/300\n",
      "554/554 [==============================] - 0s 150us/step - loss: 0.5920 - acc: 0.6751 - val_loss: 0.6147 - val_acc: 0.7245\n",
      "Epoch 29/300\n",
      "554/554 [==============================] - 0s 130us/step - loss: 0.5802 - acc: 0.6968 - val_loss: 0.6195 - val_acc: 0.7245\n",
      "Epoch 30/300\n",
      "554/554 [==============================] - 0s 156us/step - loss: 0.5813 - acc: 0.6986 - val_loss: 0.6193 - val_acc: 0.7041\n",
      "Epoch 31/300\n",
      "554/554 [==============================] - 0s 129us/step - loss: 0.5790 - acc: 0.6949 - val_loss: 0.6365 - val_acc: 0.6633\n",
      "Epoch 32/300\n",
      "554/554 [==============================] - 0s 139us/step - loss: 0.5685 - acc: 0.6931 - val_loss: 0.6302 - val_acc: 0.7143\n",
      "Epoch 33/300\n",
      "554/554 [==============================] - 0s 145us/step - loss: 0.5671 - acc: 0.7274 - val_loss: 0.6059 - val_acc: 0.7347\n",
      "Epoch 34/300\n",
      "554/554 [==============================] - 0s 140us/step - loss: 0.5565 - acc: 0.7076 - val_loss: 0.6279 - val_acc: 0.6939\n",
      "Epoch 35/300\n",
      "554/554 [==============================] - 0s 159us/step - loss: 0.5550 - acc: 0.7148 - val_loss: 0.6105 - val_acc: 0.6837\n",
      "Epoch 36/300\n",
      "554/554 [==============================] - 0s 111us/step - loss: 0.5609 - acc: 0.7004 - val_loss: 0.6208 - val_acc: 0.6735\n",
      "Epoch 37/300\n",
      "554/554 [==============================] - 0s 113us/step - loss: 0.5561 - acc: 0.7058 - val_loss: 0.6428 - val_acc: 0.6939\n",
      "Epoch 38/300\n",
      "554/554 [==============================] - 0s 110us/step - loss: 0.5493 - acc: 0.7274 - val_loss: 0.6130 - val_acc: 0.6939\n",
      "Epoch 39/300\n",
      "554/554 [==============================] - 0s 111us/step - loss: 0.5690 - acc: 0.7148 - val_loss: 0.5984 - val_acc: 0.7245\n",
      "Epoch 40/300\n",
      "554/554 [==============================] - 0s 105us/step - loss: 0.5492 - acc: 0.7184 - val_loss: 0.6009 - val_acc: 0.7245\n",
      "Epoch 41/300\n",
      "554/554 [==============================] - 0s 96us/step - loss: 0.5604 - acc: 0.7076 - val_loss: 0.5722 - val_acc: 0.7653\n",
      "Epoch 42/300\n",
      "554/554 [==============================] - 0s 100us/step - loss: 0.5520 - acc: 0.7058 - val_loss: 0.5934 - val_acc: 0.7143\n",
      "Epoch 43/300\n",
      "554/554 [==============================] - 0s 118us/step - loss: 0.5456 - acc: 0.7220 - val_loss: 0.5917 - val_acc: 0.6939\n",
      "Epoch 44/300\n",
      "554/554 [==============================] - 0s 135us/step - loss: 0.5551 - acc: 0.7238 - val_loss: 0.5806 - val_acc: 0.7347\n",
      "Epoch 45/300\n",
      "554/554 [==============================] - 0s 149us/step - loss: 0.5444 - acc: 0.7310 - val_loss: 0.5816 - val_acc: 0.7551\n",
      "Epoch 46/300\n",
      "554/554 [==============================] - 0s 146us/step - loss: 0.5550 - acc: 0.7148 - val_loss: 0.5861 - val_acc: 0.7245\n",
      "Epoch 47/300\n",
      "554/554 [==============================] - 0s 142us/step - loss: 0.5298 - acc: 0.7401 - val_loss: 0.6293 - val_acc: 0.7041\n",
      "Epoch 48/300\n",
      "554/554 [==============================] - 0s 137us/step - loss: 0.5405 - acc: 0.7347 - val_loss: 0.6585 - val_acc: 0.6837\n",
      "Epoch 49/300\n",
      "554/554 [==============================] - 0s 150us/step - loss: 0.5632 - acc: 0.7058 - val_loss: 0.5873 - val_acc: 0.7143\n",
      "Epoch 50/300\n",
      "554/554 [==============================] - 0s 122us/step - loss: 0.5363 - acc: 0.7238 - val_loss: 0.5983 - val_acc: 0.7551\n",
      "Epoch 51/300\n",
      "554/554 [==============================] - 0s 154us/step - loss: 0.5467 - acc: 0.7220 - val_loss: 0.5878 - val_acc: 0.7347\n",
      "Epoch 52/300\n",
      "554/554 [==============================] - 0s 154us/step - loss: 0.5638 - acc: 0.6805 - val_loss: 0.5828 - val_acc: 0.7245\n",
      "Epoch 53/300\n",
      "554/554 [==============================] - 0s 139us/step - loss: 0.5385 - acc: 0.7491 - val_loss: 0.6485 - val_acc: 0.7143\n",
      "Epoch 54/300\n",
      "554/554 [==============================] - 0s 106us/step - loss: 0.5300 - acc: 0.7220 - val_loss: 0.6368 - val_acc: 0.6939\n",
      "Epoch 55/300\n",
      "554/554 [==============================] - 0s 111us/step - loss: 0.5355 - acc: 0.7310 - val_loss: 0.6243 - val_acc: 0.7041\n",
      "Epoch 56/300\n",
      "554/554 [==============================] - 0s 111us/step - loss: 0.5324 - acc: 0.7437 - val_loss: 0.6045 - val_acc: 0.6939\n",
      "Epoch 57/300\n",
      "554/554 [==============================] - 0s 99us/step - loss: 0.5349 - acc: 0.7347 - val_loss: 0.5908 - val_acc: 0.7653\n",
      "Epoch 58/300\n",
      "554/554 [==============================] - 0s 122us/step - loss: 0.5268 - acc: 0.7473 - val_loss: 0.5679 - val_acc: 0.7245\n",
      "Epoch 59/300\n"
     ]
    },
    {
     "name": "stdout",
     "output_type": "stream",
     "text": [
      "554/554 [==============================] - 0s 118us/step - loss: 0.5522 - acc: 0.7112 - val_loss: 0.5788 - val_acc: 0.7245\n",
      "Epoch 60/300\n",
      "554/554 [==============================] - 0s 114us/step - loss: 0.5350 - acc: 0.7274 - val_loss: 0.5703 - val_acc: 0.7143\n",
      "Epoch 61/300\n",
      "554/554 [==============================] - 0s 111us/step - loss: 0.5211 - acc: 0.7473 - val_loss: 0.5643 - val_acc: 0.7245\n",
      "Epoch 62/300\n",
      "554/554 [==============================] - 0s 111us/step - loss: 0.5297 - acc: 0.7509 - val_loss: 0.5865 - val_acc: 0.7449\n",
      "Epoch 63/300\n",
      "554/554 [==============================] - 0s 110us/step - loss: 0.5276 - acc: 0.7365 - val_loss: 0.5663 - val_acc: 0.7143\n",
      "Epoch 64/300\n",
      "554/554 [==============================] - 0s 114us/step - loss: 0.5284 - acc: 0.7383 - val_loss: 0.5619 - val_acc: 0.7347\n",
      "Epoch 65/300\n",
      "554/554 [==============================] - 0s 129us/step - loss: 0.5458 - acc: 0.7274 - val_loss: 0.5831 - val_acc: 0.7245\n",
      "Epoch 66/300\n",
      "554/554 [==============================] - 0s 160us/step - loss: 0.5328 - acc: 0.7401 - val_loss: 0.5586 - val_acc: 0.7245\n",
      "Epoch 67/300\n",
      "554/554 [==============================] - 0s 128us/step - loss: 0.5263 - acc: 0.7473 - val_loss: 0.5579 - val_acc: 0.7143\n",
      "Epoch 68/300\n",
      "554/554 [==============================] - 0s 124us/step - loss: 0.5409 - acc: 0.7310 - val_loss: 0.5907 - val_acc: 0.7347\n",
      "Epoch 69/300\n",
      "554/554 [==============================] - 0s 120us/step - loss: 0.5325 - acc: 0.7419 - val_loss: 0.6842 - val_acc: 0.6224\n",
      "Epoch 70/300\n",
      "554/554 [==============================] - 0s 117us/step - loss: 0.5623 - acc: 0.7148 - val_loss: 0.6143 - val_acc: 0.6939\n",
      "Epoch 71/300\n",
      "554/554 [==============================] - 0s 118us/step - loss: 0.5406 - acc: 0.7383 - val_loss: 0.5862 - val_acc: 0.6735\n",
      "Epoch 72/300\n",
      "554/554 [==============================] - 0s 134us/step - loss: 0.5321 - acc: 0.7274 - val_loss: 0.6229 - val_acc: 0.6837\n",
      "Epoch 73/300\n",
      "554/554 [==============================] - 0s 138us/step - loss: 0.5267 - acc: 0.7419 - val_loss: 0.5826 - val_acc: 0.7551\n",
      "Epoch 74/300\n",
      "554/554 [==============================] - 0s 135us/step - loss: 0.5189 - acc: 0.7437 - val_loss: 0.5853 - val_acc: 0.7551\n",
      "Epoch 75/300\n",
      "554/554 [==============================] - 0s 121us/step - loss: 0.5261 - acc: 0.7347 - val_loss: 0.5775 - val_acc: 0.7143\n",
      "Epoch 76/300\n",
      "554/554 [==============================] - 0s 133us/step - loss: 0.5256 - acc: 0.7329 - val_loss: 0.5710 - val_acc: 0.7245\n",
      "Epoch 77/300\n",
      "554/554 [==============================] - 0s 120us/step - loss: 0.5226 - acc: 0.7581 - val_loss: 0.6067 - val_acc: 0.7041\n",
      "Epoch 78/300\n",
      "554/554 [==============================] - 0s 127us/step - loss: 0.5222 - acc: 0.7437 - val_loss: 0.5572 - val_acc: 0.7449\n",
      "Epoch 79/300\n",
      "554/554 [==============================] - 0s 117us/step - loss: 0.5203 - acc: 0.7401 - val_loss: 0.5826 - val_acc: 0.7143\n",
      "Epoch 80/300\n",
      "554/554 [==============================] - 0s 119us/step - loss: 0.5174 - acc: 0.7563 - val_loss: 0.5541 - val_acc: 0.7347\n",
      "Epoch 81/300\n",
      "554/554 [==============================] - 0s 128us/step - loss: 0.5162 - acc: 0.7437 - val_loss: 0.6028 - val_acc: 0.7143\n",
      "Epoch 82/300\n",
      "554/554 [==============================] - 0s 133us/step - loss: 0.5262 - acc: 0.7455 - val_loss: 0.5634 - val_acc: 0.7041\n",
      "Epoch 83/300\n",
      "554/554 [==============================] - 0s 129us/step - loss: 0.5183 - acc: 0.7419 - val_loss: 0.5824 - val_acc: 0.7347\n",
      "Epoch 84/300\n",
      "554/554 [==============================] - 0s 119us/step - loss: 0.5142 - acc: 0.7635 - val_loss: 0.5488 - val_acc: 0.7347\n",
      "Epoch 85/300\n",
      "554/554 [==============================] - 0s 115us/step - loss: 0.5066 - acc: 0.7545 - val_loss: 0.5664 - val_acc: 0.7143\n",
      "Epoch 86/300\n",
      "554/554 [==============================] - 0s 114us/step - loss: 0.5025 - acc: 0.7653 - val_loss: 0.5517 - val_acc: 0.7041\n",
      "Epoch 87/300\n",
      "554/554 [==============================] - 0s 111us/step - loss: 0.5148 - acc: 0.7473 - val_loss: 0.5675 - val_acc: 0.7653\n",
      "Epoch 88/300\n",
      "554/554 [==============================] - 0s 108us/step - loss: 0.5088 - acc: 0.7617 - val_loss: 0.6604 - val_acc: 0.6735\n",
      "Epoch 89/300\n",
      "554/554 [==============================] - 0s 123us/step - loss: 0.5264 - acc: 0.7437 - val_loss: 0.5556 - val_acc: 0.7347\n",
      "Epoch 90/300\n",
      "554/554 [==============================] - 0s 121us/step - loss: 0.5155 - acc: 0.7491 - val_loss: 0.5506 - val_acc: 0.7245\n",
      "Epoch 91/300\n",
      "554/554 [==============================] - 0s 119us/step - loss: 0.5145 - acc: 0.7491 - val_loss: 0.5712 - val_acc: 0.7245\n",
      "Epoch 92/300\n",
      "554/554 [==============================] - 0s 126us/step - loss: 0.5159 - acc: 0.7292 - val_loss: 0.5510 - val_acc: 0.7245\n",
      "Epoch 93/300\n",
      "554/554 [==============================] - 0s 135us/step - loss: 0.5220 - acc: 0.7527 - val_loss: 0.5684 - val_acc: 0.7245\n",
      "Epoch 94/300\n",
      "554/554 [==============================] - 0s 133us/step - loss: 0.5172 - acc: 0.7419 - val_loss: 0.5625 - val_acc: 0.7347\n",
      "Epoch 95/300\n",
      "554/554 [==============================] - 0s 119us/step - loss: 0.5023 - acc: 0.7581 - val_loss: 0.5855 - val_acc: 0.7347\n",
      "Epoch 96/300\n",
      "554/554 [==============================] - 0s 132us/step - loss: 0.5221 - acc: 0.7599 - val_loss: 0.5506 - val_acc: 0.7347\n",
      "Epoch 97/300\n",
      "554/554 [==============================] - 0s 128us/step - loss: 0.4960 - acc: 0.7509 - val_loss: 0.5531 - val_acc: 0.7347\n",
      "Epoch 98/300\n",
      "554/554 [==============================] - 0s 123us/step - loss: 0.5108 - acc: 0.7419 - val_loss: 0.5560 - val_acc: 0.7041\n",
      "Epoch 99/300\n",
      "554/554 [==============================] - 0s 122us/step - loss: 0.5119 - acc: 0.7581 - val_loss: 0.5624 - val_acc: 0.7245\n",
      "Epoch 100/300\n",
      "554/554 [==============================] - 0s 128us/step - loss: 0.5014 - acc: 0.7599 - val_loss: 0.5582 - val_acc: 0.7041\n",
      "Epoch 101/300\n",
      "554/554 [==============================] - 0s 126us/step - loss: 0.5061 - acc: 0.7509 - val_loss: 0.5519 - val_acc: 0.7551\n",
      "Epoch 102/300\n",
      "554/554 [==============================] - 0s 142us/step - loss: 0.4917 - acc: 0.7455 - val_loss: 0.5756 - val_acc: 0.7143\n",
      "Epoch 103/300\n",
      "554/554 [==============================] - 0s 129us/step - loss: 0.5068 - acc: 0.7473 - val_loss: 0.5527 - val_acc: 0.7143\n",
      "Epoch 104/300\n",
      "554/554 [==============================] - 0s 121us/step - loss: 0.5074 - acc: 0.7617 - val_loss: 0.5430 - val_acc: 0.7347\n",
      "Epoch 105/300\n",
      "554/554 [==============================] - 0s 112us/step - loss: 0.4990 - acc: 0.7491 - val_loss: 0.5451 - val_acc: 0.7245\n",
      "Epoch 106/300\n",
      "554/554 [==============================] - 0s 112us/step - loss: 0.4995 - acc: 0.7347 - val_loss: 0.5668 - val_acc: 0.7143\n",
      "Epoch 107/300\n",
      "554/554 [==============================] - 0s 113us/step - loss: 0.5026 - acc: 0.7617 - val_loss: 0.5510 - val_acc: 0.7143\n",
      "Epoch 108/300\n",
      "554/554 [==============================] - 0s 123us/step - loss: 0.4906 - acc: 0.7635 - val_loss: 0.5500 - val_acc: 0.7041\n",
      "Epoch 109/300\n",
      "554/554 [==============================] - 0s 116us/step - loss: 0.5114 - acc: 0.7563 - val_loss: 0.5520 - val_acc: 0.7347\n",
      "Epoch 110/300\n",
      "554/554 [==============================] - 0s 119us/step - loss: 0.4963 - acc: 0.7527 - val_loss: 0.5712 - val_acc: 0.7449\n",
      "Epoch 111/300\n",
      "554/554 [==============================] - 0s 123us/step - loss: 0.4991 - acc: 0.7581 - val_loss: 0.5642 - val_acc: 0.6939\n",
      "Epoch 112/300\n",
      "554/554 [==============================] - 0s 130us/step - loss: 0.4832 - acc: 0.7653 - val_loss: 0.5827 - val_acc: 0.7245\n",
      "Epoch 113/300\n",
      "554/554 [==============================] - 0s 127us/step - loss: 0.4908 - acc: 0.7762 - val_loss: 0.5638 - val_acc: 0.7347\n",
      "Epoch 114/300\n",
      "554/554 [==============================] - 0s 117us/step - loss: 0.5000 - acc: 0.7708 - val_loss: 0.5830 - val_acc: 0.7449\n",
      "Epoch 115/300\n",
      "554/554 [==============================] - 0s 121us/step - loss: 0.5010 - acc: 0.7617 - val_loss: 0.5627 - val_acc: 0.6837\n",
      "Epoch 116/300\n",
      "554/554 [==============================] - ETA: 0s - loss: 0.4989 - acc: 0.755 - 0s 116us/step - loss: 0.4858 - acc: 0.7653 - val_loss: 0.5873 - val_acc: 0.7245\n",
      "Epoch 117/300\n",
      "554/554 [==============================] - 0s 120us/step - loss: 0.5074 - acc: 0.7581 - val_loss: 0.6014 - val_acc: 0.7143\n",
      "Epoch 118/300\n",
      "554/554 [==============================] - 0s 123us/step - loss: 0.5081 - acc: 0.7509 - val_loss: 0.5495 - val_acc: 0.7347\n"
     ]
    },
    {
     "name": "stdout",
     "output_type": "stream",
     "text": [
      "Epoch 119/300\n",
      "554/554 [==============================] - 0s 125us/step - loss: 0.5070 - acc: 0.7491 - val_loss: 0.5394 - val_acc: 0.7143\n",
      "Epoch 120/300\n",
      "554/554 [==============================] - 0s 120us/step - loss: 0.4903 - acc: 0.7744 - val_loss: 0.5878 - val_acc: 0.7245\n",
      "Epoch 121/300\n",
      "554/554 [==============================] - 0s 127us/step - loss: 0.5202 - acc: 0.7491 - val_loss: 0.5556 - val_acc: 0.7449\n",
      "Epoch 122/300\n",
      "554/554 [==============================] - 0s 116us/step - loss: 0.4873 - acc: 0.7834 - val_loss: 0.5607 - val_acc: 0.7143\n",
      "Epoch 123/300\n",
      "554/554 [==============================] - 0s 111us/step - loss: 0.4846 - acc: 0.7780 - val_loss: 0.5383 - val_acc: 0.7245\n",
      "Epoch 124/300\n",
      "554/554 [==============================] - 0s 129us/step - loss: 0.4826 - acc: 0.7780 - val_loss: 0.5385 - val_acc: 0.7449\n",
      "Epoch 125/300\n",
      "554/554 [==============================] - 0s 119us/step - loss: 0.4849 - acc: 0.7780 - val_loss: 0.5637 - val_acc: 0.7245\n",
      "Epoch 126/300\n",
      "554/554 [==============================] - 0s 129us/step - loss: 0.4881 - acc: 0.7527 - val_loss: 0.5429 - val_acc: 0.7245\n",
      "Epoch 127/300\n",
      "554/554 [==============================] - 0s 116us/step - loss: 0.4805 - acc: 0.7780 - val_loss: 0.5467 - val_acc: 0.7143\n",
      "Epoch 128/300\n",
      "554/554 [==============================] - 0s 123us/step - loss: 0.4889 - acc: 0.7798 - val_loss: 0.6146 - val_acc: 0.6837\n",
      "Epoch 129/300\n",
      "554/554 [==============================] - 0s 115us/step - loss: 0.5223 - acc: 0.7437 - val_loss: 0.5477 - val_acc: 0.7347\n",
      "Epoch 130/300\n",
      "554/554 [==============================] - 0s 124us/step - loss: 0.4821 - acc: 0.7762 - val_loss: 0.5629 - val_acc: 0.7245\n",
      "Epoch 131/300\n",
      "554/554 [==============================] - 0s 124us/step - loss: 0.4963 - acc: 0.7671 - val_loss: 0.5490 - val_acc: 0.6939\n",
      "Epoch 132/300\n",
      "554/554 [==============================] - 0s 138us/step - loss: 0.4864 - acc: 0.7617 - val_loss: 0.5640 - val_acc: 0.7245\n",
      "Epoch 133/300\n",
      "554/554 [==============================] - 0s 129us/step - loss: 0.4945 - acc: 0.7635 - val_loss: 0.5746 - val_acc: 0.6735\n",
      "Epoch 134/300\n",
      "554/554 [==============================] - 0s 122us/step - loss: 0.4810 - acc: 0.7726 - val_loss: 0.5586 - val_acc: 0.6837\n",
      "Epoch 135/300\n",
      "554/554 [==============================] - 0s 121us/step - loss: 0.4739 - acc: 0.7888 - val_loss: 0.5693 - val_acc: 0.6735\n",
      "Epoch 136/300\n",
      "554/554 [==============================] - 0s 127us/step - loss: 0.4724 - acc: 0.7852 - val_loss: 0.5479 - val_acc: 0.6939\n",
      "Epoch 137/300\n",
      "554/554 [==============================] - 0s 135us/step - loss: 0.4752 - acc: 0.7798 - val_loss: 0.5557 - val_acc: 0.6939\n",
      "Epoch 138/300\n",
      "554/554 [==============================] - 0s 122us/step - loss: 0.4795 - acc: 0.7780 - val_loss: 0.5519 - val_acc: 0.7347\n",
      "Epoch 139/300\n",
      "554/554 [==============================] - 0s 125us/step - loss: 0.4859 - acc: 0.7762 - val_loss: 0.5399 - val_acc: 0.7857\n",
      "Epoch 140/300\n",
      "554/554 [==============================] - 0s 121us/step - loss: 0.4749 - acc: 0.7906 - val_loss: 0.6470 - val_acc: 0.6939\n",
      "Epoch 141/300\n",
      "554/554 [==============================] - 0s 127us/step - loss: 0.5030 - acc: 0.7671 - val_loss: 0.5701 - val_acc: 0.6633\n",
      "Epoch 142/300\n",
      "554/554 [==============================] - 0s 109us/step - loss: 0.4739 - acc: 0.7780 - val_loss: 0.5547 - val_acc: 0.6939\n",
      "Epoch 143/300\n",
      "554/554 [==============================] - 0s 105us/step - loss: 0.4844 - acc: 0.7617 - val_loss: 0.5725 - val_acc: 0.6837\n",
      "Epoch 144/300\n",
      "554/554 [==============================] - 0s 142us/step - loss: 0.4769 - acc: 0.7798 - val_loss: 0.5301 - val_acc: 0.7347\n",
      "Epoch 145/300\n",
      "554/554 [==============================] - 0s 140us/step - loss: 0.4722 - acc: 0.7744 - val_loss: 0.5403 - val_acc: 0.7041\n",
      "Epoch 146/300\n",
      "554/554 [==============================] - 0s 113us/step - loss: 0.4777 - acc: 0.7708 - val_loss: 0.5824 - val_acc: 0.6837\n",
      "Epoch 147/300\n",
      "554/554 [==============================] - 0s 99us/step - loss: 0.4692 - acc: 0.7798 - val_loss: 0.5483 - val_acc: 0.7245\n",
      "Epoch 148/300\n",
      "554/554 [==============================] - 0s 107us/step - loss: 0.4757 - acc: 0.7852 - val_loss: 0.6094 - val_acc: 0.6939\n",
      "Epoch 149/300\n",
      "554/554 [==============================] - 0s 101us/step - loss: 0.4844 - acc: 0.7726 - val_loss: 0.5810 - val_acc: 0.7041\n",
      "Epoch 150/300\n",
      "554/554 [==============================] - 0s 108us/step - loss: 0.4760 - acc: 0.7780 - val_loss: 0.5586 - val_acc: 0.6837\n",
      "Epoch 151/300\n",
      "554/554 [==============================] - 0s 101us/step - loss: 0.4772 - acc: 0.7653 - val_loss: 0.5545 - val_acc: 0.6939\n",
      "Epoch 152/300\n",
      "554/554 [==============================] - 0s 111us/step - loss: 0.4751 - acc: 0.7744 - val_loss: 0.5608 - val_acc: 0.7347\n",
      "Epoch 153/300\n",
      "554/554 [==============================] - 0s 109us/step - loss: 0.4948 - acc: 0.7671 - val_loss: 0.5495 - val_acc: 0.6939\n",
      "Epoch 154/300\n",
      "554/554 [==============================] - 0s 125us/step - loss: 0.4751 - acc: 0.7744 - val_loss: 0.5605 - val_acc: 0.7245\n",
      "Epoch 155/300\n",
      "554/554 [==============================] - 0s 124us/step - loss: 0.4835 - acc: 0.7924 - val_loss: 0.5818 - val_acc: 0.7041\n",
      "Epoch 156/300\n",
      "554/554 [==============================] - 0s 130us/step - loss: 0.4714 - acc: 0.7816 - val_loss: 0.5620 - val_acc: 0.7653\n",
      "Epoch 157/300\n",
      "554/554 [==============================] - 0s 132us/step - loss: 0.4747 - acc: 0.7762 - val_loss: 0.5497 - val_acc: 0.7143\n",
      "Epoch 158/300\n",
      "554/554 [==============================] - 0s 104us/step - loss: 0.4763 - acc: 0.7726 - val_loss: 0.5727 - val_acc: 0.6837\n",
      "Epoch 159/300\n",
      "554/554 [==============================] - 0s 106us/step - loss: 0.4640 - acc: 0.7798 - val_loss: 0.5548 - val_acc: 0.7449\n",
      "Epoch 160/300\n",
      "554/554 [==============================] - 0s 116us/step - loss: 0.4725 - acc: 0.7762 - val_loss: 0.5575 - val_acc: 0.7041\n",
      "Epoch 161/300\n",
      "554/554 [==============================] - 0s 119us/step - loss: 0.4670 - acc: 0.7798 - val_loss: 0.5646 - val_acc: 0.7143\n",
      "Epoch 162/300\n",
      "554/554 [==============================] - 0s 111us/step - loss: 0.4775 - acc: 0.7870 - val_loss: 0.5610 - val_acc: 0.7245\n",
      "Epoch 163/300\n",
      "554/554 [==============================] - 0s 103us/step - loss: 0.4666 - acc: 0.7798 - val_loss: 0.5637 - val_acc: 0.7041\n",
      "Epoch 164/300\n",
      "554/554 [==============================] - 0s 116us/step - loss: 0.4577 - acc: 0.7834 - val_loss: 0.5558 - val_acc: 0.7245\n",
      "Epoch 165/300\n",
      "554/554 [==============================] - 0s 106us/step - loss: 0.4607 - acc: 0.7780 - val_loss: 0.5702 - val_acc: 0.6735\n",
      "Epoch 166/300\n",
      "554/554 [==============================] - 0s 98us/step - loss: 0.4709 - acc: 0.7816 - val_loss: 0.5503 - val_acc: 0.7041\n",
      "Epoch 167/300\n",
      "554/554 [==============================] - 0s 102us/step - loss: 0.4656 - acc: 0.7888 - val_loss: 0.5669 - val_acc: 0.6939\n",
      "Epoch 168/300\n",
      "554/554 [==============================] - 0s 114us/step - loss: 0.4628 - acc: 0.7996 - val_loss: 0.6154 - val_acc: 0.7143\n",
      "Epoch 169/300\n",
      "554/554 [==============================] - 0s 125us/step - loss: 0.4567 - acc: 0.7942 - val_loss: 0.5750 - val_acc: 0.7041\n",
      "Epoch 170/300\n",
      "554/554 [==============================] - 0s 113us/step - loss: 0.4588 - acc: 0.7816 - val_loss: 0.5720 - val_acc: 0.7245\n",
      "Epoch 171/300\n",
      "554/554 [==============================] - 0s 132us/step - loss: 0.4611 - acc: 0.7906 - val_loss: 0.5616 - val_acc: 0.6939\n",
      "Epoch 172/300\n",
      "554/554 [==============================] - 0s 123us/step - loss: 0.4542 - acc: 0.8014 - val_loss: 0.5767 - val_acc: 0.7347\n",
      "Epoch 173/300\n",
      "554/554 [==============================] - 0s 112us/step - loss: 0.4588 - acc: 0.7798 - val_loss: 0.5574 - val_acc: 0.7347\n",
      "Epoch 174/300\n",
      "554/554 [==============================] - 0s 111us/step - loss: 0.4562 - acc: 0.7996 - val_loss: 0.5650 - val_acc: 0.6939\n",
      "Epoch 175/300\n",
      "554/554 [==============================] - 0s 115us/step - loss: 0.4715 - acc: 0.7744 - val_loss: 0.5484 - val_acc: 0.7449\n",
      "Epoch 176/300\n",
      "554/554 [==============================] - 0s 126us/step - loss: 0.4730 - acc: 0.7942 - val_loss: 0.5659 - val_acc: 0.7041\n",
      "Epoch 177/300\n",
      "554/554 [==============================] - 0s 110us/step - loss: 0.4587 - acc: 0.7996 - val_loss: 0.5843 - val_acc: 0.7653\n",
      "Epoch 178/300\n",
      "554/554 [==============================] - 0s 115us/step - loss: 0.4699 - acc: 0.7816 - val_loss: 0.5570 - val_acc: 0.7245\n"
     ]
    },
    {
     "name": "stdout",
     "output_type": "stream",
     "text": [
      "Epoch 179/300\n",
      "554/554 [==============================] - 0s 121us/step - loss: 0.4516 - acc: 0.8069 - val_loss: 0.5651 - val_acc: 0.7143\n",
      "Epoch 180/300\n",
      "554/554 [==============================] - 0s 116us/step - loss: 0.4520 - acc: 0.7906 - val_loss: 0.5798 - val_acc: 0.6939\n",
      "Epoch 181/300\n",
      "554/554 [==============================] - 0s 117us/step - loss: 0.4528 - acc: 0.8014 - val_loss: 0.6036 - val_acc: 0.6837\n",
      "Epoch 182/300\n",
      "554/554 [==============================] - 0s 104us/step - loss: 0.4746 - acc: 0.7762 - val_loss: 0.5771 - val_acc: 0.6735\n",
      "Epoch 183/300\n",
      "554/554 [==============================] - 0s 109us/step - loss: 0.4513 - acc: 0.7924 - val_loss: 0.5632 - val_acc: 0.6939\n",
      "Epoch 184/300\n",
      "554/554 [==============================] - 0s 108us/step - loss: 0.4598 - acc: 0.7834 - val_loss: 0.5740 - val_acc: 0.7245\n",
      "Epoch 185/300\n",
      "554/554 [==============================] - 0s 95us/step - loss: 0.4563 - acc: 0.8014 - val_loss: 0.5626 - val_acc: 0.7245\n",
      "Epoch 186/300\n",
      "554/554 [==============================] - 0s 121us/step - loss: 0.4562 - acc: 0.7834 - val_loss: 0.5782 - val_acc: 0.7143\n",
      "Epoch 187/300\n",
      "554/554 [==============================] - 0s 120us/step - loss: 0.4547 - acc: 0.7762 - val_loss: 0.5942 - val_acc: 0.7143\n",
      "Epoch 188/300\n",
      "554/554 [==============================] - 0s 118us/step - loss: 0.4538 - acc: 0.7888 - val_loss: 0.6229 - val_acc: 0.7347\n",
      "Epoch 189/300\n",
      "554/554 [==============================] - 0s 123us/step - loss: 0.4661 - acc: 0.7816 - val_loss: 0.5530 - val_acc: 0.7245\n",
      "Epoch 190/300\n",
      "554/554 [==============================] - 0s 121us/step - loss: 0.4550 - acc: 0.7816 - val_loss: 0.5601 - val_acc: 0.7143\n",
      "Epoch 191/300\n",
      "554/554 [==============================] - 0s 119us/step - loss: 0.4488 - acc: 0.7996 - val_loss: 0.5538 - val_acc: 0.7143\n",
      "Epoch 192/300\n",
      "554/554 [==============================] - 0s 112us/step - loss: 0.4475 - acc: 0.7852 - val_loss: 0.5756 - val_acc: 0.7041\n",
      "Epoch 193/300\n",
      "554/554 [==============================] - 0s 105us/step - loss: 0.4583 - acc: 0.7960 - val_loss: 0.5739 - val_acc: 0.7245\n",
      "Epoch 194/300\n",
      "554/554 [==============================] - 0s 110us/step - loss: 0.4523 - acc: 0.7816 - val_loss: 0.5585 - val_acc: 0.7347\n",
      "Epoch 195/300\n",
      "554/554 [==============================] - 0s 109us/step - loss: 0.4675 - acc: 0.7726 - val_loss: 0.5676 - val_acc: 0.7143\n",
      "Epoch 196/300\n",
      "554/554 [==============================] - 0s 101us/step - loss: 0.4421 - acc: 0.8051 - val_loss: 0.5719 - val_acc: 0.6837\n",
      "Epoch 197/300\n",
      "554/554 [==============================] - 0s 109us/step - loss: 0.4565 - acc: 0.7906 - val_loss: 0.6470 - val_acc: 0.6939\n",
      "Epoch 198/300\n",
      "554/554 [==============================] - 0s 98us/step - loss: 0.4603 - acc: 0.7870 - val_loss: 0.5870 - val_acc: 0.7143\n",
      "Epoch 199/300\n",
      "554/554 [==============================] - 0s 105us/step - loss: 0.4573 - acc: 0.7978 - val_loss: 0.5823 - val_acc: 0.6939\n",
      "Epoch 200/300\n",
      "554/554 [==============================] - 0s 102us/step - loss: 0.4606 - acc: 0.7978 - val_loss: 0.5707 - val_acc: 0.6939\n",
      "Epoch 201/300\n",
      "554/554 [==============================] - 0s 129us/step - loss: 0.4470 - acc: 0.7924 - val_loss: 0.5887 - val_acc: 0.7347\n",
      "Epoch 202/300\n",
      "554/554 [==============================] - 0s 122us/step - loss: 0.4306 - acc: 0.8069 - val_loss: 0.5894 - val_acc: 0.7143\n",
      "Epoch 203/300\n",
      "554/554 [==============================] - 0s 108us/step - loss: 0.4576 - acc: 0.7852 - val_loss: 0.5817 - val_acc: 0.7551\n",
      "Epoch 204/300\n",
      "554/554 [==============================] - 0s 116us/step - loss: 0.4424 - acc: 0.7906 - val_loss: 0.5775 - val_acc: 0.7245\n",
      "Epoch 205/300\n",
      "554/554 [==============================] - 0s 109us/step - loss: 0.4516 - acc: 0.7960 - val_loss: 0.5858 - val_acc: 0.7041\n",
      "Epoch 206/300\n",
      "554/554 [==============================] - 0s 112us/step - loss: 0.4466 - acc: 0.7834 - val_loss: 0.5823 - val_acc: 0.7143\n",
      "Epoch 207/300\n",
      "554/554 [==============================] - 0s 117us/step - loss: 0.4481 - acc: 0.7888 - val_loss: 0.5596 - val_acc: 0.7245\n",
      "Epoch 208/300\n",
      "554/554 [==============================] - 0s 118us/step - loss: 0.4490 - acc: 0.7942 - val_loss: 0.5632 - val_acc: 0.6939\n",
      "Epoch 209/300\n",
      "554/554 [==============================] - 0s 115us/step - loss: 0.4460 - acc: 0.8123 - val_loss: 0.5895 - val_acc: 0.7653\n",
      "Epoch 210/300\n",
      "554/554 [==============================] - 0s 111us/step - loss: 0.4519 - acc: 0.8051 - val_loss: 0.5676 - val_acc: 0.7143\n",
      "Epoch 211/300\n",
      "554/554 [==============================] - 0s 110us/step - loss: 0.4513 - acc: 0.7870 - val_loss: 0.5839 - val_acc: 0.7449\n",
      "Epoch 212/300\n",
      "554/554 [==============================] - 0s 110us/step - loss: 0.4461 - acc: 0.7780 - val_loss: 0.5585 - val_acc: 0.7245\n",
      "Epoch 213/300\n",
      "554/554 [==============================] - 0s 106us/step - loss: 0.4550 - acc: 0.7942 - val_loss: 0.5858 - val_acc: 0.7755\n",
      "Epoch 214/300\n",
      "554/554 [==============================] - 0s 135us/step - loss: 0.4460 - acc: 0.8014 - val_loss: 0.5388 - val_acc: 0.7245\n",
      "Epoch 215/300\n",
      "554/554 [==============================] - 0s 132us/step - loss: 0.4426 - acc: 0.8051 - val_loss: 0.5824 - val_acc: 0.7347\n",
      "Epoch 216/300\n",
      "554/554 [==============================] - 0s 131us/step - loss: 0.4510 - acc: 0.8051 - val_loss: 0.5730 - val_acc: 0.7449\n",
      "Epoch 217/300\n",
      "554/554 [==============================] - 0s 111us/step - loss: 0.4462 - acc: 0.7798 - val_loss: 0.5826 - val_acc: 0.7347\n",
      "Epoch 218/300\n",
      "554/554 [==============================] - 0s 103us/step - loss: 0.4479 - acc: 0.7924 - val_loss: 0.5739 - val_acc: 0.7551\n",
      "Epoch 219/300\n",
      "554/554 [==============================] - 0s 105us/step - loss: 0.4545 - acc: 0.7906 - val_loss: 0.5774 - val_acc: 0.7143\n",
      "Epoch 220/300\n",
      "554/554 [==============================] - 0s 112us/step - loss: 0.4300 - acc: 0.7996 - val_loss: 0.5749 - val_acc: 0.7245\n",
      "Epoch 221/300\n",
      "554/554 [==============================] - 0s 117us/step - loss: 0.4470 - acc: 0.8032 - val_loss: 0.5684 - val_acc: 0.7041\n",
      "Epoch 222/300\n",
      "554/554 [==============================] - 0s 114us/step - loss: 0.4450 - acc: 0.7978 - val_loss: 0.5822 - val_acc: 0.7041\n",
      "Epoch 223/300\n",
      "554/554 [==============================] - 0s 109us/step - loss: 0.4414 - acc: 0.8014 - val_loss: 0.5835 - val_acc: 0.7347\n",
      "Epoch 224/300\n",
      "554/554 [==============================] - 0s 119us/step - loss: 0.4346 - acc: 0.7978 - val_loss: 0.5739 - val_acc: 0.6939\n",
      "Epoch 225/300\n",
      "554/554 [==============================] - 0s 130us/step - loss: 0.4346 - acc: 0.8051 - val_loss: 0.5956 - val_acc: 0.7245\n",
      "Epoch 226/300\n",
      "554/554 [==============================] - 0s 148us/step - loss: 0.4347 - acc: 0.8141 - val_loss: 0.5881 - val_acc: 0.7143\n",
      "Epoch 227/300\n",
      "554/554 [==============================] - 0s 146us/step - loss: 0.4416 - acc: 0.7960 - val_loss: 0.5545 - val_acc: 0.7245\n",
      "Epoch 228/300\n",
      "554/554 [==============================] - 0s 144us/step - loss: 0.4368 - acc: 0.7996 - val_loss: 0.5807 - val_acc: 0.7347\n",
      "Epoch 229/300\n",
      "554/554 [==============================] - 0s 141us/step - loss: 0.4310 - acc: 0.8069 - val_loss: 0.5808 - val_acc: 0.7245\n",
      "Epoch 230/300\n",
      "554/554 [==============================] - 0s 116us/step - loss: 0.4417 - acc: 0.7978 - val_loss: 0.5851 - val_acc: 0.7041\n",
      "Epoch 231/300\n",
      "554/554 [==============================] - 0s 109us/step - loss: 0.4390 - acc: 0.8014 - val_loss: 0.5736 - val_acc: 0.7143\n",
      "Epoch 232/300\n",
      "554/554 [==============================] - 0s 103us/step - loss: 0.4444 - acc: 0.7996 - val_loss: 0.5815 - val_acc: 0.7245\n",
      "Epoch 233/300\n",
      "554/554 [==============================] - 0s 103us/step - loss: 0.4363 - acc: 0.8032 - val_loss: 0.5577 - val_acc: 0.7449\n",
      "Epoch 234/300\n",
      "554/554 [==============================] - 0s 118us/step - loss: 0.4391 - acc: 0.7870 - val_loss: 0.5946 - val_acc: 0.7041\n",
      "Epoch 235/300\n",
      "554/554 [==============================] - 0s 121us/step - loss: 0.4319 - acc: 0.8032 - val_loss: 0.5917 - val_acc: 0.7041\n",
      "Epoch 236/300\n",
      "554/554 [==============================] - 0s 115us/step - loss: 0.4482 - acc: 0.8032 - val_loss: 0.5799 - val_acc: 0.7347\n",
      "Epoch 237/300\n",
      "554/554 [==============================] - 0s 131us/step - loss: 0.4604 - acc: 0.7978 - val_loss: 0.5901 - val_acc: 0.7041\n",
      "Epoch 238/300\n",
      "554/554 [==============================] - 0s 114us/step - loss: 0.4275 - acc: 0.8177 - val_loss: 0.5712 - val_acc: 0.7347\n"
     ]
    },
    {
     "name": "stdout",
     "output_type": "stream",
     "text": [
      "Epoch 239/300\n",
      "554/554 [==============================] - 0s 120us/step - loss: 0.4279 - acc: 0.8105 - val_loss: 0.5704 - val_acc: 0.7143\n",
      "Epoch 240/300\n",
      "554/554 [==============================] - 0s 130us/step - loss: 0.4364 - acc: 0.7942 - val_loss: 0.5712 - val_acc: 0.7245\n",
      "Epoch 241/300\n",
      "554/554 [==============================] - 0s 144us/step - loss: 0.4495 - acc: 0.7906 - val_loss: 0.5713 - val_acc: 0.7347\n",
      "Epoch 242/300\n",
      "554/554 [==============================] - 0s 141us/step - loss: 0.4282 - acc: 0.8105 - val_loss: 0.6036 - val_acc: 0.7347\n",
      "Epoch 243/300\n",
      "554/554 [==============================] - 0s 144us/step - loss: 0.4338 - acc: 0.8159 - val_loss: 0.5809 - val_acc: 0.7245\n",
      "Epoch 244/300\n",
      "554/554 [==============================] - 0s 142us/step - loss: 0.4374 - acc: 0.8014 - val_loss: 0.6308 - val_acc: 0.6939\n",
      "Epoch 245/300\n",
      "554/554 [==============================] - 0s 138us/step - loss: 0.4444 - acc: 0.7870 - val_loss: 0.6724 - val_acc: 0.6939\n",
      "Epoch 246/300\n",
      "554/554 [==============================] - 0s 148us/step - loss: 0.4640 - acc: 0.7906 - val_loss: 0.5886 - val_acc: 0.7245\n",
      "Epoch 247/300\n",
      "554/554 [==============================] - 0s 113us/step - loss: 0.4425 - acc: 0.7852 - val_loss: 0.5839 - val_acc: 0.7245\n",
      "Epoch 248/300\n",
      "554/554 [==============================] - 0s 95us/step - loss: 0.4258 - acc: 0.8032 - val_loss: 0.5869 - val_acc: 0.7347\n",
      "Epoch 249/300\n",
      "554/554 [==============================] - 0s 94us/step - loss: 0.4264 - acc: 0.7924 - val_loss: 0.5848 - val_acc: 0.7449\n",
      "Epoch 250/300\n",
      "554/554 [==============================] - 0s 96us/step - loss: 0.4405 - acc: 0.7996 - val_loss: 0.5740 - val_acc: 0.7245\n",
      "Epoch 251/300\n",
      "554/554 [==============================] - 0s 145us/step - loss: 0.4434 - acc: 0.8032 - val_loss: 0.5810 - val_acc: 0.7347\n",
      "Epoch 252/300\n",
      "554/554 [==============================] - 0s 151us/step - loss: 0.4267 - acc: 0.8123 - val_loss: 0.5947 - val_acc: 0.7245\n",
      "Epoch 253/300\n",
      "554/554 [==============================] - 0s 147us/step - loss: 0.4279 - acc: 0.8014 - val_loss: 0.5765 - val_acc: 0.7041\n",
      "Epoch 254/300\n",
      "554/554 [==============================] - 0s 125us/step - loss: 0.4281 - acc: 0.8032 - val_loss: 0.5900 - val_acc: 0.7347\n",
      "Epoch 255/300\n",
      "554/554 [==============================] - 0s 98us/step - loss: 0.4367 - acc: 0.7996 - val_loss: 0.5862 - val_acc: 0.7347\n",
      "Epoch 256/300\n",
      "554/554 [==============================] - 0s 102us/step - loss: 0.4374 - acc: 0.8123 - val_loss: 0.6077 - val_acc: 0.7143\n",
      "Epoch 257/300\n",
      "554/554 [==============================] - 0s 120us/step - loss: 0.4280 - acc: 0.8177 - val_loss: 0.6044 - val_acc: 0.7347\n",
      "Epoch 258/300\n",
      "554/554 [==============================] - 0s 104us/step - loss: 0.4302 - acc: 0.7978 - val_loss: 0.5967 - val_acc: 0.7041\n",
      "Epoch 259/300\n",
      "554/554 [==============================] - 0s 92us/step - loss: 0.4302 - acc: 0.8177 - val_loss: 0.5905 - val_acc: 0.6939\n",
      "Epoch 260/300\n",
      "554/554 [==============================] - 0s 92us/step - loss: 0.4450 - acc: 0.7906 - val_loss: 0.5978 - val_acc: 0.7143\n",
      "Epoch 261/300\n",
      "554/554 [==============================] - 0s 93us/step - loss: 0.4433 - acc: 0.7978 - val_loss: 0.5781 - val_acc: 0.7347\n",
      "Epoch 262/300\n",
      "554/554 [==============================] - 0s 95us/step - loss: 0.4328 - acc: 0.8051 - val_loss: 0.5760 - val_acc: 0.7245\n",
      "Epoch 263/300\n",
      "554/554 [==============================] - 0s 106us/step - loss: 0.4199 - acc: 0.8141 - val_loss: 0.5699 - val_acc: 0.7347\n",
      "Epoch 264/300\n",
      "554/554 [==============================] - 0s 94us/step - loss: 0.4299 - acc: 0.8014 - val_loss: 0.5948 - val_acc: 0.7041\n",
      "Epoch 265/300\n",
      "554/554 [==============================] - 0s 98us/step - loss: 0.4477 - acc: 0.8032 - val_loss: 0.5856 - val_acc: 0.7347\n",
      "Epoch 266/300\n",
      "554/554 [==============================] - 0s 94us/step - loss: 0.4286 - acc: 0.8105 - val_loss: 0.5945 - val_acc: 0.7143\n",
      "Epoch 267/300\n",
      "554/554 [==============================] - 0s 94us/step - loss: 0.4334 - acc: 0.7888 - val_loss: 0.5802 - val_acc: 0.7347\n",
      "Epoch 268/300\n",
      "554/554 [==============================] - 0s 95us/step - loss: 0.4289 - acc: 0.8087 - val_loss: 0.5893 - val_acc: 0.7347\n",
      "Epoch 269/300\n",
      "554/554 [==============================] - 0s 96us/step - loss: 0.4293 - acc: 0.8014 - val_loss: 0.6448 - val_acc: 0.7041\n",
      "Epoch 270/300\n",
      "554/554 [==============================] - 0s 97us/step - loss: 0.4497 - acc: 0.7924 - val_loss: 0.6243 - val_acc: 0.7551\n",
      "Epoch 271/300\n",
      "554/554 [==============================] - 0s 96us/step - loss: 0.4400 - acc: 0.7978 - val_loss: 0.6034 - val_acc: 0.7245\n",
      "Epoch 272/300\n",
      "554/554 [==============================] - 0s 101us/step - loss: 0.4337 - acc: 0.8014 - val_loss: 0.5837 - val_acc: 0.7551\n",
      "Epoch 273/300\n",
      "554/554 [==============================] - 0s 102us/step - loss: 0.4240 - acc: 0.7924 - val_loss: 0.6091 - val_acc: 0.7245\n",
      "Epoch 274/300\n",
      "554/554 [==============================] - 0s 95us/step - loss: 0.4305 - acc: 0.7978 - val_loss: 0.5982 - val_acc: 0.7245\n",
      "Epoch 275/300\n",
      "554/554 [==============================] - 0s 98us/step - loss: 0.4272 - acc: 0.8051 - val_loss: 0.5969 - val_acc: 0.7449\n",
      "Epoch 276/300\n",
      "554/554 [==============================] - 0s 111us/step - loss: 0.4281 - acc: 0.8014 - val_loss: 0.5936 - val_acc: 0.7245\n",
      "Epoch 277/300\n",
      "554/554 [==============================] - 0s 112us/step - loss: 0.4222 - acc: 0.8123 - val_loss: 0.5821 - val_acc: 0.7245\n",
      "Epoch 278/300\n",
      "554/554 [==============================] - 0s 151us/step - loss: 0.4211 - acc: 0.8051 - val_loss: 0.5977 - val_acc: 0.7245\n",
      "Epoch 279/300\n",
      "554/554 [==============================] - 0s 183us/step - loss: 0.4186 - acc: 0.8105 - val_loss: 0.6026 - val_acc: 0.7245\n",
      "Epoch 280/300\n",
      "554/554 [==============================] - 0s 142us/step - loss: 0.4226 - acc: 0.8051 - val_loss: 0.6169 - val_acc: 0.7143\n",
      "Epoch 281/300\n",
      "554/554 [==============================] - 0s 153us/step - loss: 0.4157 - acc: 0.8032 - val_loss: 0.6056 - val_acc: 0.7245\n",
      "Epoch 282/300\n",
      "554/554 [==============================] - 0s 127us/step - loss: 0.4295 - acc: 0.7996 - val_loss: 0.6247 - val_acc: 0.7143\n",
      "Epoch 283/300\n",
      "554/554 [==============================] - 0s 128us/step - loss: 0.4356 - acc: 0.7924 - val_loss: 0.5945 - val_acc: 0.7041\n",
      "Epoch 284/300\n",
      "554/554 [==============================] - 0s 125us/step - loss: 0.4214 - acc: 0.8087 - val_loss: 0.6060 - val_acc: 0.7245\n",
      "Epoch 285/300\n",
      "554/554 [==============================] - 0s 123us/step - loss: 0.4223 - acc: 0.8087 - val_loss: 0.6190 - val_acc: 0.7347\n",
      "Epoch 286/300\n",
      "554/554 [==============================] - 0s 124us/step - loss: 0.4279 - acc: 0.8014 - val_loss: 0.5852 - val_acc: 0.7347\n",
      "Epoch 287/300\n",
      "554/554 [==============================] - 0s 124us/step - loss: 0.4237 - acc: 0.8087 - val_loss: 0.6075 - val_acc: 0.7245\n",
      "Epoch 288/300\n",
      "554/554 [==============================] - 0s 142us/step - loss: 0.4207 - acc: 0.8213 - val_loss: 0.5971 - val_acc: 0.7347\n",
      "Epoch 289/300\n",
      "554/554 [==============================] - 0s 118us/step - loss: 0.4199 - acc: 0.8087 - val_loss: 0.6061 - val_acc: 0.7245\n",
      "Epoch 290/300\n",
      "554/554 [==============================] - 0s 111us/step - loss: 0.4133 - acc: 0.8231 - val_loss: 0.5997 - val_acc: 0.7755\n",
      "Epoch 291/300\n",
      "554/554 [==============================] - 0s 95us/step - loss: 0.4233 - acc: 0.8141 - val_loss: 0.5952 - val_acc: 0.7347\n",
      "Epoch 292/300\n",
      "554/554 [==============================] - 0s 94us/step - loss: 0.4275 - acc: 0.8014 - val_loss: 0.6001 - val_acc: 0.7959\n",
      "Epoch 293/300\n",
      "554/554 [==============================] - 0s 94us/step - loss: 0.4390 - acc: 0.7942 - val_loss: 0.5704 - val_acc: 0.7347\n",
      "Epoch 294/300\n",
      "554/554 [==============================] - 0s 95us/step - loss: 0.4339 - acc: 0.8014 - val_loss: 0.5938 - val_acc: 0.7959\n",
      "Epoch 295/300\n",
      "554/554 [==============================] - 0s 96us/step - loss: 0.4212 - acc: 0.7996 - val_loss: 0.5887 - val_acc: 0.7449\n",
      "Epoch 296/300\n",
      "554/554 [==============================] - 0s 112us/step - loss: 0.4219 - acc: 0.8141 - val_loss: 0.5897 - val_acc: 0.7347\n",
      "Epoch 297/300\n",
      "554/554 [==============================] - 0s 96us/step - loss: 0.4244 - acc: 0.7978 - val_loss: 0.6564 - val_acc: 0.7653\n",
      "Epoch 298/300\n",
      "554/554 [==============================] - 0s 96us/step - loss: 0.4473 - acc: 0.7942 - val_loss: 0.6067 - val_acc: 0.6939\n"
     ]
    },
    {
     "name": "stdout",
     "output_type": "stream",
     "text": [
      "Epoch 299/300\n",
      "554/554 [==============================] - 0s 104us/step - loss: 0.4190 - acc: 0.8123 - val_loss: 0.5915 - val_acc: 0.7245\n",
      "Epoch 300/300\n",
      "554/554 [==============================] - 0s 113us/step - loss: 0.4212 - acc: 0.8069 - val_loss: 0.5928 - val_acc: 0.7245\n"
     ]
    }
   ],
   "source": [
    "# Fit the model\n",
    "model.fit(X_train, y_train, epochs = 300, batch_size = 10, validation_split = 0.15)\n",
    "# Use 15% for Validation\n",
    "# Train for 300 epochs\n",
    "# User batch size = 10\n",
    "# Save the model fitting into the variable history\n",
    "# TODO\n",
    "history = model.history"
   ]
  },
  {
   "cell_type": "code",
   "execution_count": 24,
   "metadata": {},
   "outputs": [
    {
     "name": "stdout",
     "output_type": "stream",
     "text": [
      "dict_keys(['val_loss', 'val_acc', 'loss', 'acc'])\n"
     ]
    }
   ],
   "source": [
    "# list all data in history\n",
    "print(history.history.keys())"
   ]
  },
  {
   "cell_type": "code",
   "execution_count": 25,
   "metadata": {},
   "outputs": [
    {
     "data": {
      "image/png": "[encoded data removed]",
      "text/plain": [
       "<Figure size 432x288 with 1 Axes>"
      ]
     },
     "metadata": {
      "needs_background": "light"
     },
     "output_type": "display_data"
    }
   ],
   "source": [
    "# Plot the History of Training Loss (history.history['loss']) and the Validation Loss (history.history['val_loss'])\n",
    "# Title should be \"Model Loss\"\n",
    "# x label: \"Loss\"\n",
    "# y label: \"Epoch\"\n",
    "# Legend: \"Train\" and \"Validation\"\n",
    "# TODO\n",
    "plt.plot(history.history['loss'])\n",
    "plt.plot(history.history['val_loss'])\n",
    "plt.title('Model Loss')\n",
    "plt.xlabel('Epoch')\n",
    "plt.ylabel('Loss')\n",
    "plt.legend(['Train', 'Validation'])\n",
    "plt.show()"
   ]
  },
  {
   "cell_type": "code",
   "execution_count": 26,
   "metadata": {},
   "outputs": [
    {
     "data": {
      "image/png": "[encoded data removed]",
      "text/plain": [
       "<Figure size 432x288 with 1 Axes>"
      ]
     },
     "metadata": {
      "needs_background": "light"
     },
     "output_type": "display_data"
    }
   ],
   "source": [
    "# Plot the History of Training Accuracy (history.history['acc']) and \n",
    "# the Validation Accuracy (history.history['val_acc'])\n",
    "#\n",
    "# Title should be \"Model Accuracy\"\n",
    "# x label: \"Accuracy\"\n",
    "# y label: \"Epoch\"\n",
    "# Legend: \"Train\" and \"Validation\"\n",
    "# TODO\n",
    "plt.plot(history.history['acc'])\n",
    "plt.plot(history.history['val_acc'])\n",
    "plt.title('Model Accuracy')\n",
    "plt.xlabel('Epoch')\n",
    "plt.ylabel('Accuracy')\n",
    "plt.legend(['Train', 'Validation'])\n",
    "plt.show()"
   ]
  },
  {
   "cell_type": "code",
   "execution_count": 27,
   "metadata": {},
   "outputs": [
    {
     "name": "stdout",
     "output_type": "stream",
     "text": [
      "116/116 [==============================] - 0s 43us/step\n"
     ]
    }
   ],
   "source": [
    "# Evaluate the loss and accuracy on the test data\n",
    "loss, accuracy = model.evaluate(X_test, y_test)"
   ]
  },
  {
   "cell_type": "code",
   "execution_count": 28,
   "metadata": {},
   "outputs": [
    {
     "name": "stdout",
     "output_type": "stream",
     "text": [
      "Test score: 0.6565924697908861\n",
      "Test accuracy: 0.7068965537794705\n"
     ]
    }
   ],
   "source": [
    "print('Test score:', loss)\n",
    "print('Test accuracy:', accuracy)"
   ]
  }
 ],
 "metadata": {
  "kernelspec": {
   "display_name": "Python 3",
   "language": "python",
   "name": "python3"
  },
  "language_info": {
   "codemirror_mode": {
    "name": "ipython",
    "version": 3
   },
   "file_extension": ".py",
   "mimetype": "text/x-python",
   "name": "python",
   "nbconvert_exporter": "python",
   "pygments_lexer": "ipython3",
   "version": "3.7.3"
  },
  "varInspector": {
   "cols": {
    "lenName": 16,
    "lenType": 16,
    "lenVar": 40
   },
   "kernels_config": {
    "python": {
     "delete_cmd_postfix": "",
     "delete_cmd_prefix": "del ",
     "library": "var_list.py",
     "varRefreshCmd": "print(var_dic_list())"
    },
    "r": {
     "delete_cmd_postfix": ") ",
     "delete_cmd_prefix": "rm(",
     "library": "var_list.r",
     "varRefreshCmd": "cat(var_dic_list()) "
    }
   },
   "types_to_exclude": [
    "module",
    "function",
    "builtin_function_or_method",
    "instance",
    "_Feature"
   ],
   "window_display": false
  }
 },
 "nbformat": 4,
 "nbformat_minor": 2
}
